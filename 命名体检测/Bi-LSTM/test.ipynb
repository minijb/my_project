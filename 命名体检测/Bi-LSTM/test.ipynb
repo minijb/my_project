{
 "cells": [
  {
   "cell_type": "code",
   "execution_count": 2,
   "metadata": {},
   "outputs": [],
   "source": [
    "import torch\n",
    "from torch import nn"
   ]
  },
  {
   "cell_type": "code",
   "execution_count": 10,
   "metadata": {},
   "outputs": [
    {
     "data": {
      "text/plain": [
       "'\\ntensor([[ 0.8020, -0.3090,  0.8384],\\n        [ 0.0195,  0.6898,  0.1703],\\n        [-0.4772,  0.9876,  0.1831],\\n        [-0.2254, -0.1457,  2.1110],\\n        [-0.8413,  0.3626,  1.5816]], grad_fn=<EmbeddingBackward0>)\\n'"
      ]
     },
     "execution_count": 10,
     "metadata": {},
     "output_type": "execute_result"
    }
   ],
   "source": [
    "embed = nn.Embedding(10,3)\n",
    "embed( torch.LongTensor([1,2,3,4,5]))\n",
    "'''\n",
    "tensor([[ 0.8020, -0.3090,  0.8384],\n",
    "        [ 0.0195,  0.6898,  0.1703],\n",
    "        [-0.4772,  0.9876,  0.1831],\n",
    "        [-0.2254, -0.1457,  2.1110],\n",
    "        [-0.8413,  0.3626,  1.5816]], grad_fn=<EmbeddingBackward0>)\n",
    "'''"
   ]
  },
  {
   "cell_type": "code",
   "execution_count": null,
   "metadata": {},
   "outputs": [],
   "source": []
  }
 ],
 "metadata": {
  "kernelspec": {
   "display_name": "Python 3.8.13 ('test')",
   "language": "python",
   "name": "python3"
  },
  "language_info": {
   "codemirror_mode": {
    "name": "ipython",
    "version": 3
   },
   "file_extension": ".py",
   "mimetype": "text/x-python",
   "name": "python",
   "nbconvert_exporter": "python",
   "pygments_lexer": "ipython3",
   "version": "3.8.13"
  },
  "orig_nbformat": 4,
  "vscode": {
   "interpreter": {
    "hash": "2e8db0730c91600a5349938b5440aa07dc44fbf5b422a40c9df5fa4ade778ff1"
   }
  }
 },
 "nbformat": 4,
 "nbformat_minor": 2
}
