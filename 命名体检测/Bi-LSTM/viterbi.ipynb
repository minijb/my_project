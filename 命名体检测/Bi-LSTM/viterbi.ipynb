{
 "cells": [
  {
   "cell_type": "code",
   "execution_count": 2,
   "metadata": {},
   "outputs": [],
   "source": [
    "import numpy as np"
   ]
  },
  {
   "cell_type": "markdown",
   "metadata": {},
   "source": [
    "![img](./img/Snipaste_2022-07-20_17-54-34.png)"
   ]
  },
  {
   "cell_type": "code",
   "execution_count": 6,
   "metadata": {},
   "outputs": [
    {
     "data": {
      "text/plain": [
       "(array([[0.5, 0.2, 0.3],\n",
       "        [0.3, 0.5, 0.2],\n",
       "        [0.2, 0.3, 0.5]]),\n",
       " array([[0.5, 0.5],\n",
       "        [0.4, 0.5]]),\n",
       " array([0.2, 0.4, 0.4]),\n",
       " array([[0., 0., 0.],\n",
       "        [0., 0., 0.],\n",
       "        [0., 0., 0.]]),\n",
       " array([[0., 0., 0.],\n",
       "        [0., 0., 0.],\n",
       "        [0., 0., 0.]]))"
      ]
     },
     "execution_count": 6,
     "metadata": {},
     "output_type": "execute_result"
    }
   ],
   "source": [
    "# 状态转移矩阵\n",
    "A = np.array([[0.5,0.2,0.3],[0.3,0.5,0.2],[0.2,0.3,0.5]])\n",
    "# 输出概率矩阵 也就是发射矩阵\n",
    "B = np.array([[0.5,0.5],[0.4,0.5]])\n",
    "# 初始概率\n",
    "pi = np.array([0.2,0.4,0.4])\n",
    "#out 输出链，我们需要根据输出链推测出状态连\n",
    "out = [0,1,0]\n",
    "# xi是（序列长度，状态数量）形状的矩阵，每一行是一个时刻，每一列是每个状态输出的概率\n",
    "# xi[0,0]即使t=0时刻，状态0输出结果的概率\n",
    "xi = np.zeros((3,3))\n",
    "# phi 里记录的是最有可能的路径\n",
    "# phi[1,0] 是t=1时刻状态0的状态 最有可能总t=0到t=1的路径\n",
    "phi = np.zeros((3,3))\n",
    "A,B,pi,xi,phi"
   ]
  }
 ],
 "metadata": {
  "kernelspec": {
   "display_name": "Python 3.8.13 ('test')",
   "language": "python",
   "name": "python3"
  },
  "language_info": {
   "codemirror_mode": {
    "name": "ipython",
    "version": 3
   },
   "file_extension": ".py",
   "mimetype": "text/x-python",
   "name": "python",
   "nbconvert_exporter": "python",
   "pygments_lexer": "ipython3",
   "version": "3.8.13"
  },
  "orig_nbformat": 4,
  "vscode": {
   "interpreter": {
    "hash": "2e8db0730c91600a5349938b5440aa07dc44fbf5b422a40c9df5fa4ade778ff1"
   }
  }
 },
 "nbformat": 4,
 "nbformat_minor": 2
}
