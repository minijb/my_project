{
 "cells": [
  {
   "cell_type": "code",
   "execution_count": 1,
   "metadata": {},
   "outputs": [],
   "source": [
    "import torch\n",
    "from torch import nn"
   ]
  },
  {
   "cell_type": "code",
   "execution_count": 3,
   "metadata": {},
   "outputs": [],
   "source": [
    "x1 = torch.tensor([[11,21,31],[21,31,41]],dtype=torch.int)\n",
    "x1.shape # torch.Size([2, 3])\n",
    "# x2\n",
    "x2 = torch.tensor([[12,22,32],[22,32,42]],dtype=torch.int)\n",
    "x2.shape  # torch.Size([2, 3])\n",
    "inputs = [x1, x2]"
   ]
  },
  {
   "cell_type": "code",
   "execution_count": 8,
   "metadata": {},
   "outputs": [],
   "source": [
    "a = torch.cat(inputs, dim=0)"
   ]
  },
  {
   "cell_type": "code",
   "execution_count": 31,
   "metadata": {},
   "outputs": [
    {
     "data": {
      "text/plain": [
       "tensor([[[11, 21, 31],\n",
       "         [21, 31, 41],\n",
       "         [12, 22, 32],\n",
       "         [22, 32, 42]],\n",
       "\n",
       "        [[11, 21, 31],\n",
       "         [21, 31, 41],\n",
       "         [12, 22, 32],\n",
       "         [22, 32, 42]]], dtype=torch.int32)"
      ]
     },
     "execution_count": 31,
     "metadata": {},
     "output_type": "execute_result"
    }
   ],
   "source": [
    "b = torch.stack([a,a])\n",
    "b"
   ]
  },
  {
   "cell_type": "code",
   "execution_count": 32,
   "metadata": {},
   "outputs": [
    {
     "data": {
      "text/plain": [
       "tensor([[[[11, 21, 31],\n",
       "          [21, 31, 41],\n",
       "          [12, 22, 32],\n",
       "          [22, 32, 42]],\n",
       "\n",
       "         [[11, 21, 31],\n",
       "          [21, 31, 41],\n",
       "          [12, 22, 32],\n",
       "          [22, 32, 42]]],\n",
       "\n",
       "\n",
       "        [[[11, 21, 31],\n",
       "          [21, 31, 41],\n",
       "          [12, 22, 32],\n",
       "          [22, 32, 42]],\n",
       "\n",
       "         [[11, 21, 31],\n",
       "          [21, 31, 41],\n",
       "          [12, 22, 32],\n",
       "          [22, 32, 42]]]], dtype=torch.int32)"
      ]
     },
     "execution_count": 32,
     "metadata": {},
     "output_type": "execute_result"
    }
   ],
   "source": [
    "c = torch.stack([b,b])\n",
    "c"
   ]
  },
  {
   "cell_type": "code",
   "execution_count": 37,
   "metadata": {},
   "outputs": [
    {
     "data": {
      "text/plain": [
       "tensor([[[31, 41, 32, 42],\n",
       "         [31, 41, 32, 42]],\n",
       "\n",
       "        [[31, 41, 32, 42],\n",
       "         [31, 41, 32, 42]]], dtype=torch.int32)"
      ]
     },
     "execution_count": 37,
     "metadata": {},
     "output_type": "execute_result"
    }
   ],
   "source": [
    "c[...,2]"
   ]
  },
  {
   "cell_type": "code",
   "execution_count": 36,
   "metadata": {},
   "outputs": [
    {
     "data": {
      "text/plain": [
       "tensor([[[[31],\n",
       "          [41],\n",
       "          [32],\n",
       "          [42]],\n",
       "\n",
       "         [[31],\n",
       "          [41],\n",
       "          [32],\n",
       "          [42]]],\n",
       "\n",
       "\n",
       "        [[[31],\n",
       "          [41],\n",
       "          [32],\n",
       "          [42]],\n",
       "\n",
       "         [[31],\n",
       "          [41],\n",
       "          [32],\n",
       "          [42]]]], dtype=torch.int32)"
      ]
     },
     "execution_count": 36,
     "metadata": {},
     "output_type": "execute_result"
    }
   ],
   "source": [
    "c[...,2].unsqueeze(3)\n"
   ]
  }
 ],
 "metadata": {
  "kernelspec": {
   "display_name": "Python 3.8.13 ('test')",
   "language": "python",
   "name": "python3"
  },
  "language_info": {
   "codemirror_mode": {
    "name": "ipython",
    "version": 3
   },
   "file_extension": ".py",
   "mimetype": "text/x-python",
   "name": "python",
   "nbconvert_exporter": "python",
   "pygments_lexer": "ipython3",
   "version": "3.8.13"
  },
  "orig_nbformat": 4,
  "vscode": {
   "interpreter": {
    "hash": "2e8db0730c91600a5349938b5440aa07dc44fbf5b422a40c9df5fa4ade778ff1"
   }
  }
 },
 "nbformat": 4,
 "nbformat_minor": 2
}
