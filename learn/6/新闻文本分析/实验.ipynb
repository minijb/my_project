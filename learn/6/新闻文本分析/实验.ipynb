{
 "cells": [
  {
   "cell_type": "code",
   "execution_count": 98,
   "metadata": {},
   "outputs": [],
   "source": [
    "import pandas as pd\n",
    "import jieba\n",
    "import numpy as np"
   ]
  },
  {
   "cell_type": "code",
   "execution_count": 99,
   "metadata": {},
   "outputs": [
    {
     "data": {
      "text/html": [
       "<div>\n",
       "<style scoped>\n",
       "    .dataframe tbody tr th:only-of-type {\n",
       "        vertical-align: middle;\n",
       "    }\n",
       "\n",
       "    .dataframe tbody tr th {\n",
       "        vertical-align: top;\n",
       "    }\n",
       "\n",
       "    .dataframe thead th {\n",
       "        text-align: right;\n",
       "    }\n",
       "</style>\n",
       "<table border=\"1\" class=\"dataframe\">\n",
       "  <thead>\n",
       "    <tr style=\"text-align: right;\">\n",
       "      <th></th>\n",
       "      <th>category</th>\n",
       "      <th>theme</th>\n",
       "      <th>URL</th>\n",
       "      <th>content</th>\n",
       "    </tr>\n",
       "  </thead>\n",
       "  <tbody>\n",
       "    <tr>\n",
       "      <th>0</th>\n",
       "      <td>汽车</td>\n",
       "      <td>新辉腾　４．２　Ｖ８　４座加长Ｉｎｄｉｖｉｄｕａｌ版２０１１款　最新报价</td>\n",
       "      <td>http://auto.data.people.com.cn/model_15782/</td>\n",
       "      <td>经销商　电话　试驾／订车Ｕ憬杭州滨江区江陵路１７８０号４００８－１１２２３３转５８６４＃保常...</td>\n",
       "    </tr>\n",
       "    <tr>\n",
       "      <th>1</th>\n",
       "      <td>汽车</td>\n",
       "      <td>９１８　Ｓｐｙｄｅｒ概念车</td>\n",
       "      <td>http://auto.data.people.com.cn/prdview_165423....</td>\n",
       "      <td>呼叫热线　４００８－１００－３００　服务邮箱　ｋｆ＠ｐｅｏｐｌｅｄａｉｌｙ．ｃｏｍ．ｃｎ</td>\n",
       "    </tr>\n",
       "    <tr>\n",
       "      <th>2</th>\n",
       "      <td>汽车</td>\n",
       "      <td>日内瓦亮相　ＭＩＮＩ性能版／概念车－１．６Ｔ引擎</td>\n",
       "      <td>http://auto.data.people.com.cn/news/story_5249...</td>\n",
       "      <td>ＭＩＮＩ品牌在二月曾经公布了最新的ＭＩＮＩ新概念车Ｃｌｕｂｖａｎ效果图，不过现在在日内瓦车展...</td>\n",
       "    </tr>\n",
       "    <tr>\n",
       "      <th>3</th>\n",
       "      <td>汽车</td>\n",
       "      <td>清仓大甩卖一汽夏利Ｎ５威志Ｖ２低至３．３９万</td>\n",
       "      <td>http://auto.data.people.com.cn/news/story_6144...</td>\n",
       "      <td>清仓大甩卖！一汽夏利Ｎ５、威志Ｖ２低至３．３９万＝日，启新中国一汽强势推出一汽夏利Ｎ５、威志...</td>\n",
       "    </tr>\n",
       "    <tr>\n",
       "      <th>4</th>\n",
       "      <td>汽车</td>\n",
       "      <td>大众敞篷家族新成员　高尔夫敞篷版实拍</td>\n",
       "      <td>http://auto.data.people.com.cn/news/story_5686...</td>\n",
       "      <td>在今年３月的日内瓦车展上，我们见到了高尔夫家族的新成员，高尔夫敞篷版，这款全新敞篷车受到了众...</td>\n",
       "    </tr>\n",
       "  </tbody>\n",
       "</table>\n",
       "</div>"
      ],
      "text/plain": [
       "  category                                 theme  \\\n",
       "0       汽车  新辉腾　４．２　Ｖ８　４座加长Ｉｎｄｉｖｉｄｕａｌ版２０１１款　最新报价   \n",
       "1       汽车                         ９１８　Ｓｐｙｄｅｒ概念车   \n",
       "2       汽车              日内瓦亮相　ＭＩＮＩ性能版／概念车－１．６Ｔ引擎   \n",
       "3       汽车                清仓大甩卖一汽夏利Ｎ５威志Ｖ２低至３．３９万   \n",
       "4       汽车                    大众敞篷家族新成员　高尔夫敞篷版实拍   \n",
       "\n",
       "                                                 URL  \\\n",
       "0        http://auto.data.people.com.cn/model_15782/   \n",
       "1  http://auto.data.people.com.cn/prdview_165423....   \n",
       "2  http://auto.data.people.com.cn/news/story_5249...   \n",
       "3  http://auto.data.people.com.cn/news/story_6144...   \n",
       "4  http://auto.data.people.com.cn/news/story_5686...   \n",
       "\n",
       "                                             content  \n",
       "0  经销商　电话　试驾／订车Ｕ憬杭州滨江区江陵路１７８０号４００８－１１２２３３转５８６４＃保常...  \n",
       "1       呼叫热线　４００８－１００－３００　服务邮箱　ｋｆ＠ｐｅｏｐｌｅｄａｉｌｙ．ｃｏｍ．ｃｎ  \n",
       "2  ＭＩＮＩ品牌在二月曾经公布了最新的ＭＩＮＩ新概念车Ｃｌｕｂｖａｎ效果图，不过现在在日内瓦车展...  \n",
       "3  清仓大甩卖！一汽夏利Ｎ５、威志Ｖ２低至３．３９万＝日，启新中国一汽强势推出一汽夏利Ｎ５、威志...  \n",
       "4  在今年３月的日内瓦车展上，我们见到了高尔夫家族的新成员，高尔夫敞篷版，这款全新敞篷车受到了众...  "
      ]
     },
     "execution_count": 99,
     "metadata": {},
     "output_type": "execute_result"
    }
   ],
   "source": [
    "df_news = pd.read_table('./val.txt',names = ['category','theme','URL','content'],encoding='utf-8')\n",
    "df_news = df_news.dropna()\n",
    "df_news.head()"
   ]
  },
  {
   "cell_type": "code",
   "execution_count": 100,
   "metadata": {},
   "outputs": [
    {
     "name": "stdout",
     "output_type": "stream",
     "text": [
      "阿里巴巴集团昨日宣布，将在集团管理层面设立首席数据官岗位（Ｃｈｉｅｆ　Ｄａｔａ　Ｏｆｆｉｃｅｒ），阿里巴巴Ｂ２Ｂ公司ＣＥＯ陆兆禧将会出任上述职务，向集团ＣＥＯ马云直接汇报。＞菹ぃ和６月初的首席风险官职务任命相同，首席数据官亦为阿里巴巴集团在完成与雅虎股权谈判，推进“ｏｎｅ　ｃｏｍｐａｎｙ”目标后，在集团决策层面新增的管理岗位。０⒗锛团昨日表示，“变成一家真正意义上的数据公司”已是战略共识。记者刘夏\n"
     ]
    }
   ],
   "source": [
    "content = df_news.content.values.tolist()#把每个数据的content项  转换为list格式\n",
    "print(content[1000])"
   ]
  },
  {
   "cell_type": "code",
   "execution_count": 101,
   "metadata": {},
   "outputs": [],
   "source": [
    "content_S = []\n",
    "for line in content:\n",
    "    current_segment =  jieba.lcut(line)#使用jieba分词\n",
    "    if len(current_segment)> 1 and current_segment!='\\r\\n':\n",
    "        content_S.append(current_segment)"
   ]
  },
  {
   "cell_type": "code",
   "execution_count": 102,
   "metadata": {},
   "outputs": [
    {
     "data": {
      "text/plain": [
       "['阿里巴巴',\n",
       " '集团',\n",
       " '昨日',\n",
       " '宣布',\n",
       " '，',\n",
       " '将',\n",
       " '在',\n",
       " '集团',\n",
       " '管理',\n",
       " '层面',\n",
       " '设立',\n",
       " '首席',\n",
       " '数据',\n",
       " '官',\n",
       " '岗位',\n",
       " '（',\n",
       " 'Ｃ',\n",
       " 'ｈ',\n",
       " 'ｉ',\n",
       " 'ｅ',\n",
       " 'ｆ',\n",
       " '\\u3000',\n",
       " 'Ｄ',\n",
       " 'ａ',\n",
       " 'ｔ',\n",
       " 'ａ',\n",
       " '\\u3000',\n",
       " 'Ｏ',\n",
       " 'ｆ',\n",
       " 'ｆ',\n",
       " 'ｉ',\n",
       " 'ｃ',\n",
       " 'ｅ',\n",
       " 'ｒ',\n",
       " '）',\n",
       " '，',\n",
       " '阿里巴巴',\n",
       " 'Ｂ',\n",
       " '２',\n",
       " 'Ｂ',\n",
       " '公司',\n",
       " 'Ｃ',\n",
       " 'Ｅ',\n",
       " 'Ｏ',\n",
       " '陆兆禧',\n",
       " '将',\n",
       " '会',\n",
       " '出任',\n",
       " '上述',\n",
       " '职务',\n",
       " '，',\n",
       " '向',\n",
       " '集团',\n",
       " 'Ｃ',\n",
       " 'Ｅ',\n",
       " 'Ｏ',\n",
       " '马云',\n",
       " '直接',\n",
       " '汇报',\n",
       " '。',\n",
       " '＞',\n",
       " '菹',\n",
       " 'ぃ',\n",
       " '和',\n",
       " '６',\n",
       " '月初',\n",
       " '的',\n",
       " '首席',\n",
       " '风险',\n",
       " '官',\n",
       " '职务',\n",
       " '任命',\n",
       " '相同',\n",
       " '，',\n",
       " '首席',\n",
       " '数据',\n",
       " '官亦为',\n",
       " '阿里巴巴',\n",
       " '集团',\n",
       " '在',\n",
       " '完成',\n",
       " '与',\n",
       " '雅虎',\n",
       " '股权',\n",
       " '谈判',\n",
       " '，',\n",
       " '推进',\n",
       " '“',\n",
       " 'ｏ',\n",
       " 'ｎ',\n",
       " 'ｅ',\n",
       " '\\u3000',\n",
       " 'ｃ',\n",
       " 'ｏ',\n",
       " 'ｍ',\n",
       " 'ｐ',\n",
       " 'ａ',\n",
       " 'ｎ',\n",
       " 'ｙ',\n",
       " '”',\n",
       " '目标',\n",
       " '后',\n",
       " '，',\n",
       " '在',\n",
       " '集团',\n",
       " '决策',\n",
       " '层面',\n",
       " '新增',\n",
       " '的',\n",
       " '管理',\n",
       " '岗位',\n",
       " '。',\n",
       " '０',\n",
       " '⒗',\n",
       " '锛',\n",
       " '团',\n",
       " '昨日',\n",
       " '表示',\n",
       " '，',\n",
       " '“',\n",
       " '变成',\n",
       " '一家',\n",
       " '真正',\n",
       " '意义',\n",
       " '上',\n",
       " '的',\n",
       " '数据',\n",
       " '公司',\n",
       " '”',\n",
       " '已',\n",
       " '是',\n",
       " '战略',\n",
       " '共识',\n",
       " '。',\n",
       " '记者',\n",
       " '刘夏']"
      ]
     },
     "execution_count": 102,
     "metadata": {},
     "output_type": "execute_result"
    }
   ],
   "source": [
    "content_S[1000]"
   ]
  },
  {
   "cell_type": "code",
   "execution_count": 103,
   "metadata": {},
   "outputs": [
    {
     "data": {
      "text/html": [
       "<div>\n",
       "<style scoped>\n",
       "    .dataframe tbody tr th:only-of-type {\n",
       "        vertical-align: middle;\n",
       "    }\n",
       "\n",
       "    .dataframe tbody tr th {\n",
       "        vertical-align: top;\n",
       "    }\n",
       "\n",
       "    .dataframe thead th {\n",
       "        text-align: right;\n",
       "    }\n",
       "</style>\n",
       "<table border=\"1\" class=\"dataframe\">\n",
       "  <thead>\n",
       "    <tr style=\"text-align: right;\">\n",
       "      <th></th>\n",
       "      <th>content_S</th>\n",
       "    </tr>\n",
       "  </thead>\n",
       "  <tbody>\n",
       "    <tr>\n",
       "      <th>0</th>\n",
       "      <td>[经销商, 　, 电话, 　, 试驾, ／, 订车, Ｕ, 憬, 杭州, 滨江区, 江陵, ...</td>\n",
       "    </tr>\n",
       "    <tr>\n",
       "      <th>1</th>\n",
       "      <td>[呼叫, 热线, 　, ４, ０, ０, ８, －, １, ０, ０, －, ３, ０, ０...</td>\n",
       "    </tr>\n",
       "    <tr>\n",
       "      <th>2</th>\n",
       "      <td>[Ｍ, Ｉ, Ｎ, Ｉ, 品牌, 在, 二月, 曾经, 公布, 了, 最新, 的, Ｍ, Ｉ...</td>\n",
       "    </tr>\n",
       "    <tr>\n",
       "      <th>3</th>\n",
       "      <td>[清仓, 大, 甩卖, ！, 一汽, 夏利, Ｎ, ５, 、, 威志, Ｖ, ２, 低至, ...</td>\n",
       "    </tr>\n",
       "    <tr>\n",
       "      <th>4</th>\n",
       "      <td>[在, 今年, ３, 月, 的, 日内瓦, 车展, 上, ，, 我们, 见到, 了, 高尔夫...</td>\n",
       "    </tr>\n",
       "  </tbody>\n",
       "</table>\n",
       "</div>"
      ],
      "text/plain": [
       "                                           content_S\n",
       "0  [经销商, 　, 电话, 　, 试驾, ／, 订车, Ｕ, 憬, 杭州, 滨江区, 江陵, ...\n",
       "1  [呼叫, 热线, 　, ４, ０, ０, ８, －, １, ０, ０, －, ３, ０, ０...\n",
       "2  [Ｍ, Ｉ, Ｎ, Ｉ, 品牌, 在, 二月, 曾经, 公布, 了, 最新, 的, Ｍ, Ｉ...\n",
       "3  [清仓, 大, 甩卖, ！, 一汽, 夏利, Ｎ, ５, 、, 威志, Ｖ, ２, 低至, ...\n",
       "4  [在, 今年, ３, 月, 的, 日内瓦, 车展, 上, ，, 我们, 见到, 了, 高尔夫..."
      ]
     },
     "execution_count": 103,
     "metadata": {},
     "output_type": "execute_result"
    }
   ],
   "source": [
    "df_content = pd.DataFrame({'content_S':content_S})\n",
    "df_content.head()"
   ]
  },
  {
   "cell_type": "code",
   "execution_count": 104,
   "metadata": {},
   "outputs": [
    {
     "data": {
      "text/html": [
       "<div>\n",
       "<style scoped>\n",
       "    .dataframe tbody tr th:only-of-type {\n",
       "        vertical-align: middle;\n",
       "    }\n",
       "\n",
       "    .dataframe tbody tr th {\n",
       "        vertical-align: top;\n",
       "    }\n",
       "\n",
       "    .dataframe thead th {\n",
       "        text-align: right;\n",
       "    }\n",
       "</style>\n",
       "<table border=\"1\" class=\"dataframe\">\n",
       "  <thead>\n",
       "    <tr style=\"text-align: right;\">\n",
       "      <th></th>\n",
       "      <th>stopword</th>\n",
       "    </tr>\n",
       "  </thead>\n",
       "  <tbody>\n",
       "    <tr>\n",
       "      <th>0</th>\n",
       "      <td>!</td>\n",
       "    </tr>\n",
       "    <tr>\n",
       "      <th>1</th>\n",
       "      <td>\"</td>\n",
       "    </tr>\n",
       "    <tr>\n",
       "      <th>2</th>\n",
       "      <td>#</td>\n",
       "    </tr>\n",
       "    <tr>\n",
       "      <th>3</th>\n",
       "      <td>$</td>\n",
       "    </tr>\n",
       "    <tr>\n",
       "      <th>4</th>\n",
       "      <td>%</td>\n",
       "    </tr>\n",
       "    <tr>\n",
       "      <th>...</th>\n",
       "      <td>...</td>\n",
       "    </tr>\n",
       "    <tr>\n",
       "      <th>2660</th>\n",
       "      <td>v</td>\n",
       "    </tr>\n",
       "    <tr>\n",
       "      <th>2661</th>\n",
       "      <td>w</td>\n",
       "    </tr>\n",
       "    <tr>\n",
       "      <th>2662</th>\n",
       "      <td>x</td>\n",
       "    </tr>\n",
       "    <tr>\n",
       "      <th>2663</th>\n",
       "      <td>y</td>\n",
       "    </tr>\n",
       "    <tr>\n",
       "      <th>2664</th>\n",
       "      <td>z</td>\n",
       "    </tr>\n",
       "  </tbody>\n",
       "</table>\n",
       "<p>2665 rows × 1 columns</p>\n",
       "</div>"
      ],
      "text/plain": [
       "     stopword\n",
       "0           !\n",
       "1           \"\n",
       "2           #\n",
       "3           $\n",
       "4           %\n",
       "...       ...\n",
       "2660        v\n",
       "2661        w\n",
       "2662        x\n",
       "2663        y\n",
       "2664        z\n",
       "\n",
       "[2665 rows x 1 columns]"
      ]
     },
     "execution_count": 104,
     "metadata": {},
     "output_type": "execute_result"
    }
   ],
   "source": [
    "stopwords = pd.read_csv('stopwords.txt',index_col=False,sep=\"\\t\",quoting=3,names=['stopword'],encoding='utf-8')\n",
    "stopwords"
   ]
  },
  {
   "cell_type": "code",
   "execution_count": 105,
   "metadata": {},
   "outputs": [],
   "source": [
    "#过滤操作\n",
    "def drop_word(contents , stopwords):\n",
    "    contents_clean = []\n",
    "    all_words = []\n",
    "    for line in contents:\n",
    "        line_clean = []\n",
    "        for word in line:\n",
    "            if word in stopwords:\n",
    "                continue\n",
    "            line_clean.append(word)\n",
    "            all_words.append(str(word))\n",
    "        contents_clean.append(line_clean)\n",
    "    return contents_clean,all_words\n",
    "\n",
    "contents = df_content.content_S.values.tolist()\n",
    "stopwords = stopwords.stopword.values.tolist()\n",
    "contents_clearn , all_words = drop_word(contents,stopwords)"
   ]
  },
  {
   "cell_type": "code",
   "execution_count": 106,
   "metadata": {},
   "outputs": [
    {
     "data": {
      "text/html": [
       "<div>\n",
       "<style scoped>\n",
       "    .dataframe tbody tr th:only-of-type {\n",
       "        vertical-align: middle;\n",
       "    }\n",
       "\n",
       "    .dataframe tbody tr th {\n",
       "        vertical-align: top;\n",
       "    }\n",
       "\n",
       "    .dataframe thead th {\n",
       "        text-align: right;\n",
       "    }\n",
       "</style>\n",
       "<table border=\"1\" class=\"dataframe\">\n",
       "  <thead>\n",
       "    <tr style=\"text-align: right;\">\n",
       "      <th></th>\n",
       "      <th>all_words</th>\n",
       "    </tr>\n",
       "  </thead>\n",
       "  <tbody>\n",
       "    <tr>\n",
       "      <th>0</th>\n",
       "      <td>经销商</td>\n",
       "    </tr>\n",
       "    <tr>\n",
       "      <th>1</th>\n",
       "      <td>电话</td>\n",
       "    </tr>\n",
       "    <tr>\n",
       "      <th>2</th>\n",
       "      <td>试驾</td>\n",
       "    </tr>\n",
       "    <tr>\n",
       "      <th>3</th>\n",
       "      <td>订车</td>\n",
       "    </tr>\n",
       "    <tr>\n",
       "      <th>4</th>\n",
       "      <td>Ｕ</td>\n",
       "    </tr>\n",
       "  </tbody>\n",
       "</table>\n",
       "</div>"
      ],
      "text/plain": [
       "  all_words\n",
       "0       经销商\n",
       "1        电话\n",
       "2        试驾\n",
       "3        订车\n",
       "4         Ｕ"
      ]
     },
     "execution_count": 106,
     "metadata": {},
     "output_type": "execute_result"
    }
   ],
   "source": [
    "df_content = pd.DataFrame({'contents_clean':contents_clearn})\n",
    "df_content\n",
    "df_all_words = pd.DataFrame({'all_words':all_words})\n",
    "df_all_words.head()"
   ]
  },
  {
   "cell_type": "code",
   "execution_count": 107,
   "metadata": {},
   "outputs": [
    {
     "data": {
      "text/html": [
       "<div>\n",
       "<style scoped>\n",
       "    .dataframe tbody tr th:only-of-type {\n",
       "        vertical-align: middle;\n",
       "    }\n",
       "\n",
       "    .dataframe tbody tr th {\n",
       "        vertical-align: top;\n",
       "    }\n",
       "\n",
       "    .dataframe thead th {\n",
       "        text-align: right;\n",
       "    }\n",
       "</style>\n",
       "<table border=\"1\" class=\"dataframe\">\n",
       "  <thead>\n",
       "    <tr style=\"text-align: right;\">\n",
       "      <th></th>\n",
       "      <th>all_words</th>\n",
       "      <th>count</th>\n",
       "    </tr>\n",
       "  </thead>\n",
       "  <tbody>\n",
       "    <tr>\n",
       "      <th>4065</th>\n",
       "      <td>中</td>\n",
       "      <td>5199</td>\n",
       "    </tr>\n",
       "    <tr>\n",
       "      <th>4197</th>\n",
       "      <td>中国</td>\n",
       "      <td>3115</td>\n",
       "    </tr>\n",
       "    <tr>\n",
       "      <th>88243</th>\n",
       "      <td>说</td>\n",
       "      <td>3055</td>\n",
       "    </tr>\n",
       "    <tr>\n",
       "      <th>104735</th>\n",
       "      <td>Ｓ</td>\n",
       "      <td>2646</td>\n",
       "    </tr>\n",
       "    <tr>\n",
       "      <th>1361</th>\n",
       "      <td>万</td>\n",
       "      <td>2390</td>\n",
       "    </tr>\n",
       "  </tbody>\n",
       "</table>\n",
       "</div>"
      ],
      "text/plain": [
       "       all_words  count\n",
       "4065           中   5199\n",
       "4197          中国   3115\n",
       "88243          说   3055\n",
       "104735         Ｓ   2646\n",
       "1361           万   2390"
      ]
     },
     "execution_count": 107,
     "metadata": {},
     "output_type": "execute_result"
    }
   ],
   "source": [
    "words_count = df_all_words.groupby(by=['all_words'])['all_words'].agg([(\"count\",np.size)])\n",
    "words_count= words_count.reset_index().sort_values(by=['count'],ascending=False)\n",
    "words_count.head()\n",
    "#也可以使用wordcloud"
   ]
  },
  {
   "cell_type": "code",
   "execution_count": 108,
   "metadata": {},
   "outputs": [
    {
     "name": "stdout",
     "output_type": "stream",
     "text": [
      "６月２４日，是梅西２５岁的生日。《世界体育报》特地为梅西提前做了个专题，梅西手持一件印有他姓氏和２５号号码的巴塞罗那球衣，跳蚤提前许下了生日愿望。！拔颐窍氯季的目标，和之前永远相同，那就是踢出漂亮的足球，并且赢得尽可能多的冠军奖杯。”梅西许愿，“如果能再次赢得西甲和欧冠冠军的话，那会非常美妙，我们将会努力再给球迷带来一次双冠王的喜悦。下赛季我的儿子将会出生，对于我来说，这将是一个特殊的赛季。我希望，下赛季对于巴萨而言也会是一个特殊的赛季。”６杂诎腿，梅西永远感激于心：“我永远感激巴萨为我所做的一切，我的病曾经需要巨额治疗资金，巴萨照顾好了我生活的方方面面，巴萨给了我踢足球的机会。这太美妙了，因为巴萨让我梦想成真。”＜唇２５岁的梅西，一共为巴萨出场３２９次，跳蚤打进２５３球，并且已经连续拿到了３个金球奖杯。在团队荣誉方面，梅西代表巴萨和阿根廷国青队拿到了２１个冠军头衔。在个人荣誉方面，梅西也拿到了１３个奖项，其中包括３个金球奖、１个世界足球先生奖项，２个欧洲金靴奖、２个西甲金靴奖、４个欧冠金靴和１个世青赛金靴。除了世界杯和美洲杯外，梅西拿到了能拿的一切荣誉。在２５岁的年龄段上，梅西的成就已经超越了贝利、克鲁伊夫、马拉多纳和迪斯蒂法诺这四大球王。＃玻邓甑谋蠢虽然拿到了世界杯冠军，但总奖杯数仅为１８个，比梅西少３个。在个人荣誉方面，贝利在国家队只拿了１９５９年美洲杯金靴。贝利的绝大多数个人荣誉，都是他在巴西国内联赛或者州内部联赛的金靴。２５岁的克鲁伊夫拿到了８个冠军和２个个人奖项，２５岁的马拉多纳拿到了５个冠军和６个个人奖项，２５岁的迪斯蒂法诺拿到了４个冠军和２个个人奖项。无论比团队荣誉还是个人奖项，梅西都是这一年龄段的史上最佳。\n",
      "梅西 巴萨 拿到 奖项 冠军\n"
     ]
    }
   ],
   "source": [
    "#关键字提取 jieba\n",
    "import jieba.analyse\n",
    "index = 2000\n",
    "print(df_news['content'][index])\n",
    "content_S_str = \"\".join(content_S[index])\n",
    "print(\" \".join(jieba.analyse.extract_tags(content_S_str,topK=5,withWeight=False)))"
   ]
  },
  {
   "cell_type": "code",
   "execution_count": 109,
   "metadata": {},
   "outputs": [],
   "source": [
    "#lda主题模型：格式要求list of list形式\n",
    "from gensim import corpora,models,similarities\n",
    "import gensim"
   ]
  },
  {
   "cell_type": "code",
   "execution_count": 110,
   "metadata": {},
   "outputs": [],
   "source": [
    "#做映射相当于词袋\n",
    "dictionary = corpora.Dictionary(contents_clearn)\n",
    "corpus = [dictionary.doc2bow(sentence) for sentence in contents_clearn]"
   ]
  },
  {
   "cell_type": "code",
   "execution_count": 111,
   "metadata": {},
   "outputs": [],
   "source": [
    "lda = gensim.models.ldamodel.LdaModel(corpus=corpus,id2word=dictionary,num_topics=20)"
   ]
  },
  {
   "cell_type": "code",
   "execution_count": 112,
   "metadata": {},
   "outputs": [
    {
     "name": "stdout",
     "output_type": "stream",
     "text": [
      "0.007*\"电影\" + 0.007*\"中\" + 0.007*\"观众\" + 0.005*\"节目\" + 0.004*\"导演\"\n"
     ]
    }
   ],
   "source": [
    "print(lda.print_topic(1,topn=5))"
   ]
  },
  {
   "cell_type": "code",
   "execution_count": 113,
   "metadata": {},
   "outputs": [
    {
     "name": "stdout",
     "output_type": "stream",
     "text": [
      "0.003*\"中\" + 0.003*\"恤\" + 0.003*\"复出\" + 0.003*\"Ｐ\" + 0.003*\"万\"\n",
      "0.007*\"电影\" + 0.007*\"中\" + 0.007*\"观众\" + 0.005*\"节目\" + 0.004*\"导演\"\n",
      "0.005*\"中\" + 0.004*\"西班牙\" + 0.004*\"欧洲杯\" + 0.003*\"德国\" + 0.002*\"雅虎\"\n",
      "0.007*\"ｏ\" + 0.006*\"ａ\" + 0.006*\"ｅ\" + 0.006*\"ｉ\" + 0.005*\"中国\"\n",
      "0.012*\"肌肤\" + 0.010*\"皮肤\" + 0.006*\"女人\" + 0.005*\"婚礼\" + 0.004*\"台北\"\n",
      "0.010*\"说\" + 0.007*\"孩子\" + 0.005*\"中\" + 0.004*\"生活\" + 0.004*\"儿子\"\n",
      "0.008*\"奢侈品\" + 0.004*\"万\" + 0.004*\"前锋\" + 0.003*\"中\" + 0.003*\"志愿\"\n",
      "0.019*\"卫视\" + 0.005*\"风行\" + 0.004*\"说好\" + 0.004*\"禁区\" + 0.003*\"面包\"\n",
      "0.008*\"中\" + 0.006*\"学生\" + 0.006*\"官兵\" + 0.005*\"电影\" + 0.005*\"工作\"\n",
      "0.006*\"赛区\" + 0.004*\"双江\" + 0.004*\"万\" + 0.003*\"号\" + 0.003*\"Ｌ\"\n",
      "0.004*\"中\" + 0.003*\"基金\" + 0.003*\"中国\" + 0.003*\"砉\" + 0.003*\"市场\"\n",
      "0.009*\"中\" + 0.005*\"比赛\" + 0.004*\"中国\" + 0.004*\"说\" + 0.003*\"电视剧\"\n",
      "0.020*\"ｅ\" + 0.018*\"ｎ\" + 0.016*\"ｏ\" + 0.015*\"ａ\" + 0.014*\"ｒ\"\n",
      "0.012*\"ａ\" + 0.010*\"中\" + 0.007*\"ｉ\" + 0.006*\"Ｍ\" + 0.006*\"ｅ\"\n",
      "0.008*\"中\" + 0.006*\"饰演\" + 0.004*\"Ｓ\" + 0.003*\"说\" + 0.003*\"Ｖ\"\n",
      "0.008*\"观众\" + 0.007*\"中国\" + 0.006*\"万\" + 0.006*\"号\" + 0.005*\"决赛\"\n",
      "0.006*\"中国\" + 0.006*\"中\" + 0.003*\"Ｍ\" + 0.003*\"性爱\" + 0.003*\"性感\"\n",
      "0.009*\"中国\" + 0.008*\"中\" + 0.004*\"爆料\" + 0.003*\"於\" + 0.003*\"说\"\n",
      "0.006*\"吃\" + 0.005*\"乳房\" + 0.005*\"男人\" + 0.004*\"相亲\" + 0.004*\"说\"\n",
      "0.007*\"撒\" + 0.004*\"男性\" + 0.003*\"食物\" + 0.003*\"作用\" + 0.002*\"中\"\n"
     ]
    }
   ],
   "source": [
    "for topic in lda.print_topics(num_topics=20,num_words=5):\n",
    "    print(topic[1])"
   ]
  },
  {
   "cell_type": "code",
   "execution_count": 114,
   "metadata": {},
   "outputs": [
    {
     "data": {
      "text/html": [
       "<div>\n",
       "<style scoped>\n",
       "    .dataframe tbody tr th:only-of-type {\n",
       "        vertical-align: middle;\n",
       "    }\n",
       "\n",
       "    .dataframe tbody tr th {\n",
       "        vertical-align: top;\n",
       "    }\n",
       "\n",
       "    .dataframe thead th {\n",
       "        text-align: right;\n",
       "    }\n",
       "</style>\n",
       "<table border=\"1\" class=\"dataframe\">\n",
       "  <thead>\n",
       "    <tr style=\"text-align: right;\">\n",
       "      <th></th>\n",
       "      <th>contents_clean</th>\n",
       "      <th>label</th>\n",
       "    </tr>\n",
       "  </thead>\n",
       "  <tbody>\n",
       "    <tr>\n",
       "      <th>0</th>\n",
       "      <td>[经销商, 电话, 试驾, 订车, Ｕ, 憬, 杭州, 滨江区, 江陵, 路, 号, 转, ...</td>\n",
       "      <td>汽车</td>\n",
       "    </tr>\n",
       "    <tr>\n",
       "      <th>1</th>\n",
       "      <td>[呼叫, 热线, 服务, 邮箱, ｋ, ｆ, ｐ, ｅ, ｏ, ｐ, ｌ, ｅ, ｄ, ａ,...</td>\n",
       "      <td>汽车</td>\n",
       "    </tr>\n",
       "    <tr>\n",
       "      <th>2</th>\n",
       "      <td>[Ｍ, Ｉ, Ｎ, Ｉ, 品牌, 二月, 公布, 最新, Ｍ, Ｉ, Ｎ, Ｉ, 新, 概念...</td>\n",
       "      <td>汽车</td>\n",
       "    </tr>\n",
       "    <tr>\n",
       "      <th>3</th>\n",
       "      <td>[清仓, 甩卖, 一汽, 夏利, Ｎ, 威志, Ｖ, 低至, 万, 启新, 中国, 一汽, ...</td>\n",
       "      <td>汽车</td>\n",
       "    </tr>\n",
       "    <tr>\n",
       "      <th>4</th>\n",
       "      <td>[日内瓦, 车展, 见到, 高尔夫, 家族, 新, 成员, 高尔夫, 敞篷版, 款, 全新,...</td>\n",
       "      <td>汽车</td>\n",
       "    </tr>\n",
       "    <tr>\n",
       "      <th>...</th>\n",
       "      <td>...</td>\n",
       "      <td>...</td>\n",
       "    </tr>\n",
       "    <tr>\n",
       "      <th>4995</th>\n",
       "      <td>[天气, 炎热, 补水, 变得, 美国, 跑步, 世界, 杂志, 报道, 喝水, 身体, 补...</td>\n",
       "      <td>时尚</td>\n",
       "    </tr>\n",
       "    <tr>\n",
       "      <th>4996</th>\n",
       "      <td>[不想, 说, 话, 刺激, 说, 做, 只能, 走, 离开, 伤心地, 想起, 一句, 话...</td>\n",
       "      <td>时尚</td>\n",
       "    </tr>\n",
       "    <tr>\n",
       "      <th>4997</th>\n",
       "      <td>[岁, 刘晓庆, 最新, 嫩照, Ｏ, 衷, 诘, 牧跸, 庆, 看不出, 岁, 秒杀, 刘...</td>\n",
       "      <td>时尚</td>\n",
       "    </tr>\n",
       "    <tr>\n",
       "      <th>4998</th>\n",
       "      <td>[导语, 做, 爸爸, 一种, 幸福, 无论是, 领养, 亲生, 更何况, 影视剧, 中, ...</td>\n",
       "      <td>时尚</td>\n",
       "    </tr>\n",
       "    <tr>\n",
       "      <th>4999</th>\n",
       "      <td>[全球, 最美, 女人, 合成图, 国, 整形外科, 教授, 李承哲, 国际, 学术, 杂志...</td>\n",
       "      <td>时尚</td>\n",
       "    </tr>\n",
       "  </tbody>\n",
       "</table>\n",
       "<p>5000 rows × 2 columns</p>\n",
       "</div>"
      ],
      "text/plain": [
       "                                         contents_clean label\n",
       "0     [经销商, 电话, 试驾, 订车, Ｕ, 憬, 杭州, 滨江区, 江陵, 路, 号, 转, ...    汽车\n",
       "1     [呼叫, 热线, 服务, 邮箱, ｋ, ｆ, ｐ, ｅ, ｏ, ｐ, ｌ, ｅ, ｄ, ａ,...    汽车\n",
       "2     [Ｍ, Ｉ, Ｎ, Ｉ, 品牌, 二月, 公布, 最新, Ｍ, Ｉ, Ｎ, Ｉ, 新, 概念...    汽车\n",
       "3     [清仓, 甩卖, 一汽, 夏利, Ｎ, 威志, Ｖ, 低至, 万, 启新, 中国, 一汽, ...    汽车\n",
       "4     [日内瓦, 车展, 见到, 高尔夫, 家族, 新, 成员, 高尔夫, 敞篷版, 款, 全新,...    汽车\n",
       "...                                                 ...   ...\n",
       "4995  [天气, 炎热, 补水, 变得, 美国, 跑步, 世界, 杂志, 报道, 喝水, 身体, 补...    时尚\n",
       "4996  [不想, 说, 话, 刺激, 说, 做, 只能, 走, 离开, 伤心地, 想起, 一句, 话...    时尚\n",
       "4997  [岁, 刘晓庆, 最新, 嫩照, Ｏ, 衷, 诘, 牧跸, 庆, 看不出, 岁, 秒杀, 刘...    时尚\n",
       "4998  [导语, 做, 爸爸, 一种, 幸福, 无论是, 领养, 亲生, 更何况, 影视剧, 中, ...    时尚\n",
       "4999  [全球, 最美, 女人, 合成图, 国, 整形外科, 教授, 李承哲, 国际, 学术, 杂志...    时尚\n",
       "\n",
       "[5000 rows x 2 columns]"
      ]
     },
     "execution_count": 114,
     "metadata": {},
     "output_type": "execute_result"
    }
   ],
   "source": [
    "df_train = pd.DataFrame({'contents_clean':contents_clearn,'label':df_news['category']})\n",
    "df_train"
   ]
  },
  {
   "cell_type": "code",
   "execution_count": 115,
   "metadata": {},
   "outputs": [
    {
     "data": {
      "text/plain": [
       "array(['汽车', '财经', '科技', '健康', '体育', '教育', '文化', '军事', '娱乐', '时尚'],\n",
       "      dtype=object)"
      ]
     },
     "execution_count": 115,
     "metadata": {},
     "output_type": "execute_result"
    }
   ],
   "source": [
    "df_train.label.unique()"
   ]
  },
  {
   "cell_type": "code",
   "execution_count": 116,
   "metadata": {},
   "outputs": [
    {
     "data": {
      "text/html": [
       "<div>\n",
       "<style scoped>\n",
       "    .dataframe tbody tr th:only-of-type {\n",
       "        vertical-align: middle;\n",
       "    }\n",
       "\n",
       "    .dataframe tbody tr th {\n",
       "        vertical-align: top;\n",
       "    }\n",
       "\n",
       "    .dataframe thead th {\n",
       "        text-align: right;\n",
       "    }\n",
       "</style>\n",
       "<table border=\"1\" class=\"dataframe\">\n",
       "  <thead>\n",
       "    <tr style=\"text-align: right;\">\n",
       "      <th></th>\n",
       "      <th>contents_clean</th>\n",
       "      <th>label</th>\n",
       "    </tr>\n",
       "  </thead>\n",
       "  <tbody>\n",
       "    <tr>\n",
       "      <th>0</th>\n",
       "      <td>[经销商, 电话, 试驾, 订车, Ｕ, 憬, 杭州, 滨江区, 江陵, 路, 号, 转, ...</td>\n",
       "      <td>1</td>\n",
       "    </tr>\n",
       "    <tr>\n",
       "      <th>1</th>\n",
       "      <td>[呼叫, 热线, 服务, 邮箱, ｋ, ｆ, ｐ, ｅ, ｏ, ｐ, ｌ, ｅ, ｄ, ａ,...</td>\n",
       "      <td>1</td>\n",
       "    </tr>\n",
       "    <tr>\n",
       "      <th>2</th>\n",
       "      <td>[Ｍ, Ｉ, Ｎ, Ｉ, 品牌, 二月, 公布, 最新, Ｍ, Ｉ, Ｎ, Ｉ, 新, 概念...</td>\n",
       "      <td>1</td>\n",
       "    </tr>\n",
       "    <tr>\n",
       "      <th>3</th>\n",
       "      <td>[清仓, 甩卖, 一汽, 夏利, Ｎ, 威志, Ｖ, 低至, 万, 启新, 中国, 一汽, ...</td>\n",
       "      <td>1</td>\n",
       "    </tr>\n",
       "    <tr>\n",
       "      <th>4</th>\n",
       "      <td>[日内瓦, 车展, 见到, 高尔夫, 家族, 新, 成员, 高尔夫, 敞篷版, 款, 全新,...</td>\n",
       "      <td>1</td>\n",
       "    </tr>\n",
       "    <tr>\n",
       "      <th>...</th>\n",
       "      <td>...</td>\n",
       "      <td>...</td>\n",
       "    </tr>\n",
       "    <tr>\n",
       "      <th>4995</th>\n",
       "      <td>[天气, 炎热, 补水, 变得, 美国, 跑步, 世界, 杂志, 报道, 喝水, 身体, 补...</td>\n",
       "      <td>10</td>\n",
       "    </tr>\n",
       "    <tr>\n",
       "      <th>4996</th>\n",
       "      <td>[不想, 说, 话, 刺激, 说, 做, 只能, 走, 离开, 伤心地, 想起, 一句, 话...</td>\n",
       "      <td>10</td>\n",
       "    </tr>\n",
       "    <tr>\n",
       "      <th>4997</th>\n",
       "      <td>[岁, 刘晓庆, 最新, 嫩照, Ｏ, 衷, 诘, 牧跸, 庆, 看不出, 岁, 秒杀, 刘...</td>\n",
       "      <td>10</td>\n",
       "    </tr>\n",
       "    <tr>\n",
       "      <th>4998</th>\n",
       "      <td>[导语, 做, 爸爸, 一种, 幸福, 无论是, 领养, 亲生, 更何况, 影视剧, 中, ...</td>\n",
       "      <td>10</td>\n",
       "    </tr>\n",
       "    <tr>\n",
       "      <th>4999</th>\n",
       "      <td>[全球, 最美, 女人, 合成图, 国, 整形外科, 教授, 李承哲, 国际, 学术, 杂志...</td>\n",
       "      <td>10</td>\n",
       "    </tr>\n",
       "  </tbody>\n",
       "</table>\n",
       "<p>5000 rows × 2 columns</p>\n",
       "</div>"
      ],
      "text/plain": [
       "                                         contents_clean  label\n",
       "0     [经销商, 电话, 试驾, 订车, Ｕ, 憬, 杭州, 滨江区, 江陵, 路, 号, 转, ...      1\n",
       "1     [呼叫, 热线, 服务, 邮箱, ｋ, ｆ, ｐ, ｅ, ｏ, ｐ, ｌ, ｅ, ｄ, ａ,...      1\n",
       "2     [Ｍ, Ｉ, Ｎ, Ｉ, 品牌, 二月, 公布, 最新, Ｍ, Ｉ, Ｎ, Ｉ, 新, 概念...      1\n",
       "3     [清仓, 甩卖, 一汽, 夏利, Ｎ, 威志, Ｖ, 低至, 万, 启新, 中国, 一汽, ...      1\n",
       "4     [日内瓦, 车展, 见到, 高尔夫, 家族, 新, 成员, 高尔夫, 敞篷版, 款, 全新,...      1\n",
       "...                                                 ...    ...\n",
       "4995  [天气, 炎热, 补水, 变得, 美国, 跑步, 世界, 杂志, 报道, 喝水, 身体, 补...     10\n",
       "4996  [不想, 说, 话, 刺激, 说, 做, 只能, 走, 离开, 伤心地, 想起, 一句, 话...     10\n",
       "4997  [岁, 刘晓庆, 最新, 嫩照, Ｏ, 衷, 诘, 牧跸, 庆, 看不出, 岁, 秒杀, 刘...     10\n",
       "4998  [导语, 做, 爸爸, 一种, 幸福, 无论是, 领养, 亲生, 更何况, 影视剧, 中, ...     10\n",
       "4999  [全球, 最美, 女人, 合成图, 国, 整形外科, 教授, 李承哲, 国际, 学术, 杂志...     10\n",
       "\n",
       "[5000 rows x 2 columns]"
      ]
     },
     "execution_count": 116,
     "metadata": {},
     "output_type": "execute_result"
    }
   ],
   "source": [
    "#将标签映射为数字\n",
    "label_mapping = {'汽车':1, '财经':2, '科技':3, '健康':4, '体育':5, '教育':6, '文化':7, '军事':8, '娱乐':9, '时尚':10}\n",
    "df_train['label']=df_train['label'].map(label_mapping)\n",
    "df_train"
   ]
  },
  {
   "cell_type": "code",
   "execution_count": 129,
   "metadata": {},
   "outputs": [],
   "source": [
    "from sklearn.model_selection import train_test_split\n",
    "\n",
    "x_trian,x_test,y_train,y_test = train_test_split(df_train['contents_clean'].values,df_train['label'].values)"
   ]
  },
  {
   "cell_type": "code",
   "execution_count": 130,
   "metadata": {},
   "outputs": [
    {
     "data": {
      "text/plain": [
       "'导语 日本 英国 服装品牌 雅格 狮丹 ｑ ｕ ａ ｓ ｃ ｕ ｔ ｕ ｍ 微博 媒体 前一天 拥有 历史 古老 品牌 情况 取消 活动 Ｑ 鸥 袷 ǖ す 笞 迕 宦潺 Ｕ 饧 夜司 声明 说 英国 严峻形势 团队 品牌 盈利 状态 只能 接受 接管 一战 中为 军队 制作 防水 外衣 名声大噪 品牌 破产 保护 程序 Ｑ 鸥 袷 ǖ び 冢 保福担 蹦 甏 戳 ⅲ 皇室 贵族 名人 影星 拥戴 Ｓ ⒐ 时装 协会主席 哈罗德 提尔曼 Ｈ ａ ｒ ｏ ｌ ｄ Ｔ ｉ ｌ ｌ ｍ ａ ｎ 品牌 所有者 出售 手中 股份 早些时候 关闭 伦敦 摄政 街上 经营 店面 Ｔ 谟 ⒐ 本土 工厂 生产 做法 雅格 狮丹 产品成本 高昂 提尔曼 致命 发生 保留 雅格 狮丹 亚洲 经营权 让给 香港 公司 Ｙ Ｇ Ｍ 贸易 Ｙ Ｇ Ｍ 市场推广 有所作为 雅格 狮丹 亚洲 市场 ― 全球 奢侈 品牌 市场 增长 最为 地区 Ｑ 鸥 袷 ǖ さ 耐类 品牌 博柏利 Ｂ ｕ ｒ ｂ ｅ ｒ ｒ ｙ 微博 成功 博柏利 集团 财年 全球 营业 收入 两位数 增长 其财报 中国 巴西 新兴 市场 发展 集团 盈利 推动力 博柏利 计划 未来 三四年 中国 店面 增加一倍 家 辈 ┌ 乩 Ｄ 秀 北京 上演 旗舰店 北京 异军突起 时尚 地标 新光 天地 旁边 开业 雅格 狮丹 悄无声息 蜗居 国贸 赛特 格子 风衣 品牌 中国 消费者 中 认知度 远远 低于 博柏利 公司 分享 两三年 中国 亚洲 新兴国家 中产阶级 崛起 带来 奢侈 品牌 狂热 消费 欧美 市场 金融危机 影响 雅格 狮丹 销量 大受 冲击 此消彼长 雅格 狮丹 犯 吸引 年轻 消费者 这件 事上 建树 英女王 丘吉尔 撒切尔 品牌 重量级 用户 年轻人 中 号召力 哈利 波特 女主角 Ｅ ｍ ｍ ａ Ｗ ａ ｔ ｓ ｏ ｎ 相提并论 Ｗ ａ ｔ ｓ ｏ ｎ 风头 最劲 博柏利 请 弟弟 登上 铺天盖地 广告 ┌ 乩 明星 设计师 Ｃ ｈ ｒ ｉ ｓ ｔ ｏ ｐ ｈ ｅ ｒ Ｂ ａ ｉ ｌ ｅ ｙ 善于 捕捉 年轻人 喜好 设计 色彩 品牌 年轻化 媒体 关系 极好 频频 亮相 粉丝 众多 一点 雅格 狮丹 找到 人选 伲 牵 兔骋 妆 硎 荆 雅格 狮丹 品牌 破产 集团 经营 雅格 狮丹 品牌 业务 影响 进一步 雅格 狮丹 全球 品牌 所有权 彭博社 报道 说 Ｙ Ｇ Ｍ 贸易 近年 破产 奢侈品 品牌 玻埃埃鼓 辏 慢 Ｒ 獯 罄 品牌 Ｇ ｉ ａ ｎ ｆ ｒ ａ ｎ ｃ ｏ Ｆ ｅ ｒ ｒ ｅ Ｖ 饕 产品 高级 成衣 玻埃埃鼓 辏 慢 ü 时装品牌 Ｃ ｈ ｒ ｉ ｓ ｔ ｉ ａ ｎ Ｌ ａ ｃ ｒ ｏ ｉ ｘ Ｖ 饕 产品 高级 定制 女装 玻埃埃鼓 辏 冈慢 鹿 顶级 女装品牌 Ｅ ｓ ｃ ａ ｄ ａ Ｖ 饕 产品 高 收入 职业女性 服装 玻埃埃鼓 辏 乖慢 Ｈ 毡 旧 杓 拼 笫 ι 奖疽 司 自主 品牌 Ｖ 饕 产品 高级 成衣 Ｑ 拥有 雅格 狮丹 授权 欧洲 服装 代理商 Ｉ ｔ ｔ ｉ ｅ ｒ ｒ ｅ Ｓ ｐ 品牌 表达 收购 意愿 Ｕ 庖 丫 不算 最坏 结局'"
      ]
     },
     "execution_count": 130,
     "metadata": {},
     "output_type": "execute_result"
    }
   ],
   "source": [
    "#实现文字向量化\n",
    "from sklearn.feature_extraction.text import CountVectorizer\n",
    "#输入格式： ['word1 word2 xxxxx xxx','xxx xxx xxx']\n",
    "#将之前的格式转化\n",
    "words = []\n",
    "\n",
    "for line_index in range(len(x_trian)):\n",
    "    try:\n",
    "        words.append(' '.join(x_trian[line_index]))\n",
    "    except:\n",
    "        print(line_index)\n",
    "        \n",
    "words[0]"
   ]
  },
  {
   "cell_type": "code",
   "execution_count": 131,
   "metadata": {},
   "outputs": [
    {
     "data": {
      "text/plain": [
       "CountVectorizer(lowercase=False, max_features=4000)"
      ]
     },
     "execution_count": 131,
     "metadata": {},
     "output_type": "execute_result"
    }
   ],
   "source": [
    "vec = CountVectorizer(analyzer='word',max_features=4000,lowercase=False)\n",
    "vec.fit(words)"
   ]
  },
  {
   "cell_type": "code",
   "execution_count": 132,
   "metadata": {},
   "outputs": [
    {
     "data": {
      "text/plain": [
       "MultinomialNB()"
      ]
     },
     "execution_count": 132,
     "metadata": {},
     "output_type": "execute_result"
    }
   ],
   "source": [
    "from sklearn.naive_bayes import MultinomialNB\n",
    "classifier = MultinomialNB()\n",
    "classifier.fit(vec.transform(words),y_train)"
   ]
  },
  {
   "cell_type": "code",
   "execution_count": 133,
   "metadata": {},
   "outputs": [
    {
     "data": {
      "text/plain": [
       "'日前 华硕 京 重磅 推出 顶级 影音 旗舰型 产品 Ｔ Ｆ Ｔ 这款 Ｃ ｏ ｍ ｐ ｕ ｔ ｅ ｘ 展会 斩获 Ｂ ｅ ｓ ｔ Ｃ ｈ ｏ ｉ ｃ ｅ 大奖 产品 拥有 高分辨率 Ｎ Ｖ Ｉ Ｄ Ｉ Ｔ ｅ ｇ ｒ ａ 四核 处理器 安卓 系统 高 达 万 像素 后置 摄像头 提高 低光 环境 图像 清晰度 超级 云 笔记 隐私 锁 书房 云端 应用软件 用户 体验'"
      ]
     },
     "execution_count": 133,
     "metadata": {},
     "output_type": "execute_result"
    }
   ],
   "source": [
    "test_words = []\n",
    "for line_index in range(len(x_test)):\n",
    "    try:\n",
    "        test_words.append(' '.join(x_test[line_index]))\n",
    "    except:\n",
    "        print(line_index)\n",
    "        \n",
    "test_words[0]"
   ]
  },
  {
   "cell_type": "code",
   "execution_count": 142,
   "metadata": {},
   "outputs": [
    {
     "data": {
      "text/plain": [
       "array([list(['日前', '华硕', '京', '重磅', '推出', '顶级', '影音', '旗舰型', '产品', 'Ｔ', 'Ｆ', 'Ｔ', '这款', 'Ｃ', 'ｏ', 'ｍ', 'ｐ', 'ｕ', 'ｔ', 'ｅ', 'ｘ', '展会', '斩获', 'Ｂ', 'ｅ', 'ｓ', 'ｔ', 'Ｃ', 'ｈ', 'ｏ', 'ｉ', 'ｃ', 'ｅ', '大奖', '产品', '拥有', '高分辨率', 'Ｎ', 'Ｖ', 'Ｉ', 'Ｄ', 'Ｉ', 'Ｔ', 'ｅ', 'ｇ', 'ｒ', 'ａ', '四核', '处理器', '安卓', '系统', '高', '达', '万', '像素', '后置', '摄像头', '提高', '低光', '环境', '图像', '清晰度', '超级', '云', '笔记', '隐私', '锁', '书房', '云端', '应用软件', '用户', '体验']),\n",
       "       list(['日前', '外媒', '报道', '国外', '环保', '机构', 'Ｔ', 'ｒ', 'ｅ', 'ｅ', 'Ｈ', 'ｕ', 'ｇ', 'ｇ', 'ｅ', 'ｒ', '近日', '全新', 'Ｒ', 'ｅ', 'ｔ', 'ｉ', 'ｎ', 'ａ', '显示屏', 'Ｍ', 'ａ', 'ｃ', 'Ｂ', 'ｏ', 'ｏ', 'ｋ', 'Ｐ', 'ｒ', 'ｏ', '更换', '电池', '环保', '机构', '质疑', '回收', '做', '可能性', '维修', 'Ｍ', 'ａ', 'ｃ', 'Ｂ', 'ｏ', 'ｏ', 'ｋ', 'Ｐ', 'ｒ', 'ｏ', '调换', '硬件', '菹', 'ぃ', '环保', '机构', '苹果', '内部', '文件', '作出', '指控', '於', '电池', 'Ｒ', 'ｅ', 'ｔ', 'ｉ', 'ｎ', 'ａ', '显示屏', '嵌入式', '组装', '独立', '更换', '电池', '电池', '上方', '换掉', '事实上', '早前', '权威', '维修', 'ｉ', 'Ｆ', 'ｉ', 'ｘ', 'ｉ', 'ｔ', '评价', '新', 'Ｒ', 'ｅ', 'ｔ', 'ｉ', 'ｎ', 'ａ', 'Ｍ', 'ａ', 'ｃ', 'Ｂ', 'ｏ', 'ｏ', 'ｋ', 'Ｐ', 'ｒ', 'ｏ', '维修', '笔记本']),\n",
       "       list(['蛟龙', '号', '布', '放入', '水', '米级', '海试', '第二次', '下潜', '试验', '第二次', '下潜', '试验', '蛟龙', '号', '米级', '海试', '中', '关键', '试验', '复核', '潜水器', '第一次', '下潜', '试验', '中', '故障', '排除', '效果', '验证', '潜水器', '米', '深度', '各项', '功能', '安全性', '罗沙', '摄']),\n",
       "       ..., list(['来源', '北京四中', '网校']),\n",
       "       list(['宣传', '子', '系列', '电影', '世纪', '年代', '陈强', '曾多次', '来到', '沈阳', '时任', '本报', '娱乐', '张威', '询问', '陈强', '子', '系列', '拍摄', '电影', '陈强', '回答', '说', '太闹', '东西', '拍不动', '拍', '此类', '戏剧', '很累', '很想', '拍点', '老人家', '拍', '电影', '陈强', '身体', '硬朗', '咳嗽', '声音', '特别', '洪亮', '好奇', '陈强', '常打', '太极拳', '做', '养生', '运动', '陈强', '却说', '向往', '那种', '老人', '生活', '参加', '社会活动', '太', '业余时间', '有限', '期待', '淡出', '影视圈', '享受', '晚年生活', '生活', '中', '陈强', '明星', '架子', '影迷', '合影', '耐心', '电视台', '架起', '摄像机', '采访', '他时', '拿出', '一张白纸', '问', '摄像', '说', '先', '调调', '白平衡', '在场', '笑', '说', '老爷子', '真', '懂行', '虑', '康', '谝', '徊', '坑', '捌', '东北', '拍', '虑', '浚', '保梗', '矗纺', '甑', '魅', '攵', '北', '电影', '制片厂', '长春电影制片厂', '主演', '新', '中国', '第一部', '短', '故事片', '留下', '蒋', '第一', '部长', '故事片', '桥', '白毛女', '保梗', '矗', '赌', '昴', '陈强', '黑龙江', '兴山', '东影', '留下', '班子', '组织', '编导', '组和', '演员', '组', '陈强', '负责', '演员', '组', '筹备', '拍电影', '东影', '展开', '故事片', '留下', '蒋', '拍摄', '工作', '新', '中国', '第一部', '电影', '陈强', '参加', '拍摄', '第一部', '影片', '读', '粝', '滤', '蒋', '中', '岁', '陈强', '扮演', '五旬', '老人', '妆化', '一点', '外', '表演', '佝偻', '腰', '走路', '故作', '老态', '讲话', '略带', '山东', '口音', '陈强', '表现', '老练', '表演', '天赋', '显露', '无疑', '保梗', '矗', '鼓', '辏', '东北', '电影', '制片厂', '艰苦', '条件', '开拍', '电影', '桥', '导演', '王滨', '认可', '陈强', '表演', '特色', '片中', '演', '老工人', '代表', '老侯头', '侯', '占', '喜', '陈强', '东北', '寒冷', '天气', '鼻子', '冻得', '发白', '弄', '一条', '厚棉', '手巾', '捂着', '吃苦', '影响', '拍摄', '桥', '放映', '反响']),\n",
       "       list(['纽约', '邮报', '昨日', '报道', '尼克斯', '开拓者', '引进', '另一名', '实力派', '控卫雷蒙', '费', '尔顿', '林书豪', '回归', '纽约', '希望', '越来越', '渺茫', '尼克斯', '明日', '中午', '匹配', '火箭队', '开出', '三年', '万美元', '报价', '合同', '林书豪', '自动', '加盟', '火箭', '咬牙', '吞下', '这份', '毒药', '合同', '尼克斯', '陷入', '财政危机', '还帜峥', '怂', '购苌岛', '芴', '煺', '妫', '火箭', '连环计', '太狠', '太', '阴毒', '谝', '患', '啤', 'よ', '汗', '庋', '晦', '偷鞅', '价', '谋求', '公平交易', '鸺', '透露', '媒体', '第一份', '口头', '报价', '林书豪', '四年', '合同', '中', '前', '三年', '万美元', '受', '保障', '年薪', '万美元', '万美元', '万美元', '尼克斯', '管理层', '火箭', '林书豪', '开出', '毒药', '合同', '太', '毒', '尼克斯', '匹配', '这份', '合同', '难度', '并不大', '美联社', '尼克斯', '丰厚', '筹码', '包括', '哈雷尔森', '杰罗姆', '乔丹', '道格拉斯', '两个', '次轮', '选秀权', '万美元', '补偿金', '交换', '一名', '火箭', '老将', '坎比', '某种程度', '火箭', '林书豪', '开出', '报价', '回报', 'Ｄ', '峥', '怂固', '煺', '娴', '叵', '嘈牛', '火箭队', '争抢', '林书豪', '说', '说', '诙计', '破釜沉舟', 'Ｐ', '橄', '以待', '赢得', '林书豪', '好感', '鸺', '主帅', '麦克', '海尔', '早', '月份', '流露出', '林书豪', '渴望', '尼克斯', '老板', '放弃', '大半', '支', '球队', '留下', '林书豪', '火箭', '相继', '送走', '德拉', '季奇', '洛瑞', '两名', '主力', '控卫', '破釜沉舟', '做法', '林书豪', '诚意', '休斯敦', '广阔', '施展', '空间', '垂勰', '峥', '怂', '梗', '提前', '林书豪', '报价', '小牛', '挖来', '老当益壮', '基德', '尼克斯', '主帅', '伍德森', '承诺', '林书豪', '赛季', '首发', '林书豪', '尼克斯', '后场', '不可或缺', '人物', '媒体', '爆出', '林书豪', '尼克斯', '报价', '心存', '真是假', '林书豪', '续约', '迟迟', '得不到', '解决', '尼克斯', '优柔寡断', '火箭', '乘虚而入', '机会', '谌计', '攻其不备', 'Ｗ', '起价', '逼迫', '尼克斯', '放弃', 'Ｗ', '杂汕', '蛟', '鼻', '┰', '计诘', '牡', '谝', '惶', '伍帅', '尼克斯', '匹配', '火箭', '报价', '料到', '火箭', '坐地', '起价', '林书豪', '第三年', '年薪', '涨至', '顶薪', '万美元', '林书豪', '送到', '嘴边', '肥肉', '不吃', '道理', '尼克斯', '签下', '三名', '自由', '球员', '诺瓦克', '史密斯', '詹姆斯', '怀特', '留下', '林书豪', '意味着', '赛季', '支付', '万美元', '薪水', '缴纳', '万美元', '奢侈', '税', '林书豪', '续约', '关系', '赛季', '套票', '销售', '尼克斯', '真', '有意', '留下', '林书豪', '应', '第一', '时间', '匹配', '报价', '昨天', '举动', 'Ｄ', '峥', '怂', '贡', '匦', '肟', '悸', '牵', '毫质', '楹', '赖', '氖', '涤眉壑岛', '蜕桃导', '壑', '芊', '衩', '植股', '踔', '脸过', '引发', '奢侈', '税', '引进', '费', '尔顿', '举动', '中', '尼克斯', '给出', '答案', 'Ｉ', '音', '疤', '鸸', '稀庇械', '闼', '幔', '核', '不值', '这价', 'Ｗ', '蛉', '眨', '安东尼', '美国', '男篮', '训练', '前', '首次', '谈到', '林书豪', '去留', '甜瓜', '火箭', '林书豪', '开出', '第三年', '接近', '万美元', '年薪', '实在', '太', '荒谬', '林书豪', '留', '不由', '说了算', '安东尼', '笑', '道', '匹配', '这份', '荒谬', '合同', '主动权', '球队', '手中', '希望', '回来', '想', '做出', 'Ｔ', '谀', '峥', '怂购', '笪', '溃', '剩沂访', '芩', '箍', '蠢', '矗', '尼克斯', '匹配', '这份', '毒药', '合同', '将会', '引发', '球队', '更衣室', '里', '一系列', '毫无疑问', '球员', '会心', '生', '史密斯', '说', '联盟', '里', '拼搏', '时间', '林书豪', '更长', '回报', '莅捕', '尼', '透露', '小斯', '迎接', '费', '尔顿', '加盟', '费', '尔顿', '打过', '球', '球队', '带来', '安东尼', '说', '尼克斯', '小斯', '配合', '不错', '联手', '小斯', '感到', '兴奋'])],\n",
       "      dtype=object)"
      ]
     },
     "execution_count": 142,
     "metadata": {},
     "output_type": "execute_result"
    }
   ],
   "source": [
    "classifier.score(vec.transform(test_words),y_test)\n",
    "classifier.predict(vec.transform(test_words))\n",
    "#基本的贝叶斯\n",
    "x_test"
   ]
  },
  {
   "cell_type": "code",
   "execution_count": 135,
   "metadata": {},
   "outputs": [
    {
     "data": {
      "text/plain": [
       "TfidfVectorizer(lowercase=False, max_features=4000)"
      ]
     },
     "execution_count": 135,
     "metadata": {},
     "output_type": "execute_result"
    }
   ],
   "source": [
    "from sklearn.feature_extraction.text import TfidfVectorizer\n",
    "vectorizer = TfidfVectorizer(analyzer='word',max_features=4000,lowercase=False)\n",
    "vectorizer.fit(words)"
   ]
  },
  {
   "cell_type": "code",
   "execution_count": 136,
   "metadata": {},
   "outputs": [
    {
     "data": {
      "text/plain": [
       "MultinomialNB()"
      ]
     },
     "execution_count": 136,
     "metadata": {},
     "output_type": "execute_result"
    }
   ],
   "source": [
    "classifier = MultinomialNB()\n",
    "classifier.fit(vectorizer.transform(words),y_train)"
   ]
  },
  {
   "cell_type": "code",
   "execution_count": 137,
   "metadata": {},
   "outputs": [
    {
     "data": {
      "text/plain": [
       "0.8072"
      ]
     },
     "execution_count": 137,
     "metadata": {},
     "output_type": "execute_result"
    }
   ],
   "source": [
    "classifier.score(vectorizer.transform(test_words),y_test)\n",
    "#Tfid不同的构造向量"
   ]
  },
  {
   "cell_type": "code",
   "execution_count": null,
   "metadata": {},
   "outputs": [],
   "source": []
  }
 ],
 "metadata": {
  "interpreter": {
   "hash": "2e8db0730c91600a5349938b5440aa07dc44fbf5b422a40c9df5fa4ade778ff1"
  },
  "kernelspec": {
   "display_name": "Python 3.8.13 ('test')",
   "language": "python",
   "name": "python3"
  },
  "language_info": {
   "codemirror_mode": {
    "name": "ipython",
    "version": 3
   },
   "file_extension": ".py",
   "mimetype": "text/x-python",
   "name": "python",
   "nbconvert_exporter": "python",
   "pygments_lexer": "ipython3",
   "version": "3.8.13"
  },
  "orig_nbformat": 4
 },
 "nbformat": 4,
 "nbformat_minor": 2
}
