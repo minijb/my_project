{
 "cells": [
  {
   "cell_type": "code",
   "execution_count": 1,
   "metadata": {},
   "outputs": [
    {
     "name": "stdout",
     "output_type": "stream",
     "text": [
      "/job:localhost/replica:0/task:0/device:GPU:0 /job:localhost/replica:0/task:0/device:CPU:0\n"
     ]
    }
   ],
   "source": [
    "import tensorflow as tf\n",
    "with tf.device('/gpu:0'):\n",
    "    a = tf.constant(1)\n",
    "with tf.device('/cpu:0'):\n",
    "    b = tf.constant([[1,2],[3,4]])\n",
    "print(a.device,b.device)"
   ]
  },
  {
   "cell_type": "code",
   "execution_count": 2,
   "metadata": {},
   "outputs": [
    {
     "name": "stdout",
     "output_type": "stream",
     "text": [
      "WARNING:tensorflow:From C:\\Users\\14143\\AppData\\Local\\Temp\\ipykernel_44324\\1001324131.py:1: _EagerTensorBase.cpu (from tensorflow.python.framework.ops) is deprecated and will be removed in a future version.\n",
      "Instructions for updating:\n",
      "Use tf.identity instead.\n"
     ]
    },
    {
     "data": {
      "text/plain": [
       "'/job:localhost/replica:0/task:0/device:CPU:0'"
      ]
     },
     "execution_count": 2,
     "metadata": {},
     "output_type": "execute_result"
    }
   ],
   "source": [
    "aa = a.cpu()\n",
    "aa.device"
   ]
  },
  {
   "cell_type": "code",
   "execution_count": 3,
   "metadata": {},
   "outputs": [
    {
     "data": {
      "text/plain": [
       "array([[1, 2],\n",
       "       [3, 4]])"
      ]
     },
     "execution_count": 3,
     "metadata": {},
     "output_type": "execute_result"
    }
   ],
   "source": [
    "b.numpy()"
   ]
  },
  {
   "cell_type": "code",
   "execution_count": 4,
   "metadata": {},
   "outputs": [
    {
     "data": {
      "text/plain": [
       "<tf.Tensor: shape=(), dtype=int32, numpy=2>"
      ]
     },
     "execution_count": 4,
     "metadata": {},
     "output_type": "execute_result"
    }
   ],
   "source": [
    "tf.rank(b)"
   ]
  },
  {
   "cell_type": "code",
   "execution_count": 5,
   "metadata": {},
   "outputs": [],
   "source": [
    "a = tf.range(5)\n",
    "b = tf.Variable(a)"
   ]
  },
  {
   "cell_type": "code",
   "execution_count": 6,
   "metadata": {},
   "outputs": [
    {
     "data": {
      "text/plain": [
       "<tf.Tensor: shape=(2, 1), dtype=int32, numpy=\n",
       "array([[1],\n",
       "       [2]])>"
      ]
     },
     "execution_count": 6,
     "metadata": {},
     "output_type": "execute_result"
    }
   ],
   "source": [
    "import numpy as np\n",
    "tf.convert_to_tensor(np.ones([2,3]))\n",
    "tf.convert_to_tensor([[1],[2]])"
   ]
  },
  {
   "cell_type": "code",
   "execution_count": 7,
   "metadata": {},
   "outputs": [],
   "source": [
    "tf.zeros([2,2])\n",
    "a= tf.ones([3,3,3])"
   ]
  },
  {
   "cell_type": "code",
   "execution_count": 8,
   "metadata": {},
   "outputs": [
    {
     "data": {
      "text/plain": [
       "<tf.Tensor: shape=(2, 2), dtype=int32, numpy=\n",
       "array([[10, 10],\n",
       "       [10, 10]])>"
      ]
     },
     "execution_count": 8,
     "metadata": {},
     "output_type": "execute_result"
    }
   ],
   "source": [
    "tf.fill([2,2],10)"
   ]
  },
  {
   "cell_type": "code",
   "execution_count": 9,
   "metadata": {},
   "outputs": [
    {
     "data": {
      "text/plain": [
       "<tf.Tensor: shape=(2, 2), dtype=float32, numpy=\n",
       "array([[0.5962428 , 0.00568044],\n",
       "       [0.807513  , 0.4754629 ]], dtype=float32)>"
      ]
     },
     "execution_count": 9,
     "metadata": {},
     "output_type": "execute_result"
    }
   ],
   "source": [
    "tf.random.normal([2,2],mean=1,stddev=1)\n",
    "tf.random.truncated_normal([2,2],mean=0,stddev=1)\n",
    "tf.random.uniform([2,2],minval=0,maxval=1,dtype=tf.float32)"
   ]
  },
  {
   "cell_type": "code",
   "execution_count": 10,
   "metadata": {},
   "outputs": [
    {
     "data": {
      "text/plain": [
       "<tf.Tensor: shape=(10,), dtype=int32, numpy=array([5, 7, 9, 0, 1, 4, 2, 8, 6, 3])>"
      ]
     },
     "execution_count": 10,
     "metadata": {},
     "output_type": "execute_result"
    }
   ],
   "source": [
    "idx = tf.range(10)\n",
    "idx = tf.random.shuffle(idx)\n",
    "idx#<tf.Tensor: shape=(10,), dtype=int32, numpy=array([8, 1, 4, 7, 0, 5, 9, 2, 6, 3])>"
   ]
  },
  {
   "cell_type": "code",
   "execution_count": 11,
   "metadata": {},
   "outputs": [
    {
     "name": "stdout",
     "output_type": "stream",
     "text": [
      "tf.Tensor(\n",
      "[3.4621394  3.2921731  9.70645    8.70905    0.39913774 4.094657\n",
      " 4.968848   0.8976126  4.5782495  4.4341493 ], shape=(10,), dtype=float32)\n",
      "tf.Tensor(\n",
      "[4.094657   0.8976126  4.4341493  3.4621394  3.2921731  0.39913774\n",
      " 9.70645    4.5782495  4.968848   8.70905   ], shape=(10,), dtype=float32)\n"
     ]
    }
   ],
   "source": [
    "a = tf.random.normal([10,784])\n",
    "b = tf.random.uniform([10],maxval=10,dtype=tf.float32)\n",
    "print(b)\n",
    "a = tf.gather(a,idx)\n",
    "b = tf.gather(b,idx)\n",
    "print(b)"
   ]
  },
  {
   "cell_type": "code",
   "execution_count": 12,
   "metadata": {},
   "outputs": [
    {
     "data": {
      "text/plain": [
       "<tf.Tensor: shape=(), dtype=float32, numpy=0.3500474>"
      ]
     },
     "execution_count": 12,
     "metadata": {},
     "output_type": "execute_result"
    }
   ],
   "source": [
    "out = tf.random.uniform([4,10])\n",
    "y = tf.range(4)\n",
    "y = tf.one_hot(y,depth=10)\n",
    "'''\n",
    "<tf.Tensor: shape=(4, 10), dtype=float32, numpy=\n",
    "array([[1., 0., 0., 0., 0., 0., 0., 0., 0., 0.],\n",
    "       [0., 1., 0., 0., 0., 0., 0., 0., 0., 0.],\n",
    "       [0., 0., 1., 0., 0., 0., 0., 0., 0., 0.],\n",
    "       [0., 0., 0., 1., 0., 0., 0., 0., 0., 0.]], dtype=float32)>\n",
    "'''\n",
    "loss = tf.keras.losses.mse(y,out)\n",
    "loss#<tf.Tensor: shape=(4,), dtype=float32, numpy=array([0.23495364, 0.447443  , 0.32503885, 0.35922748], dtype=float32)>\n",
    "loss =tf.reduce_mean(loss)\n",
    "loss#<tf.Tensor: shape=(), dtype=float32, numpy=0.37056983>"
   ]
  },
  {
   "cell_type": "code",
   "execution_count": 13,
   "metadata": {},
   "outputs": [
    {
     "data": {
      "text/plain": [
       "<tf.Variable 'bias:0' shape=(10,) dtype=float32, numpy=array([0., 0., 0., 0., 0., 0., 0., 0., 0., 0.], dtype=float32)>"
      ]
     },
     "execution_count": 13,
     "metadata": {},
     "output_type": "execute_result"
    }
   ],
   "source": [
    "from tensorflow import keras\n",
    "net = keras.layers.Dense(10)\n",
    "net.build((4,8))\n",
    "net.kernel\n",
    "net.bias"
   ]
  },
  {
   "cell_type": "code",
   "execution_count": 14,
   "metadata": {},
   "outputs": [],
   "source": [
    "a = tf.random.normal([4,28,28,3])"
   ]
  },
  {
   "cell_type": "code",
   "execution_count": 15,
   "metadata": {},
   "outputs": [
    {
     "data": {
      "text/plain": [
       "<tf.Tensor: shape=(28, 3), dtype=float32, numpy=\n",
       "array([[-1.6875918 ,  0.05063365,  0.2564059 ],\n",
       "       [-0.56160927,  0.6604438 ,  0.08134396],\n",
       "       [-0.37321237, -0.13202846, -0.52994406],\n",
       "       [-1.1358895 ,  0.07859261, -0.77521324],\n",
       "       [ 0.10383467,  1.6039869 ,  0.53682446],\n",
       "       [ 0.1875986 , -0.5455161 ,  1.1985315 ],\n",
       "       [-0.5496858 ,  1.1398267 ,  0.09438527],\n",
       "       [-0.776853  , -0.454276  ,  0.51260847],\n",
       "       [ 0.05468887, -1.3531421 ,  0.16334368],\n",
       "       [-0.96687406, -1.3847421 , -0.44268867],\n",
       "       [-2.0707378 ,  1.7431014 , -0.38382512],\n",
       "       [ 0.8563144 , -0.18127787, -0.23821129],\n",
       "       [-2.0117812 ,  0.987298  ,  1.1264547 ],\n",
       "       [ 1.009085  , -1.2942806 , -0.22935958],\n",
       "       [-0.92225116,  0.93820554, -0.7556255 ],\n",
       "       [ 0.83733606,  2.2761247 ,  0.7958274 ],\n",
       "       [-0.6710107 ,  0.4121469 ,  0.6607196 ],\n",
       "       [ 2.0934327 ,  1.2093854 , -0.43708298],\n",
       "       [ 0.7688738 , -0.01194857, -1.357202  ],\n",
       "       [ 0.45503557,  1.5618721 ,  0.6256669 ],\n",
       "       [-0.904708  ,  2.0049193 ,  0.14087684],\n",
       "       [-0.82376754,  2.0954123 , -0.9382375 ],\n",
       "       [-1.1551169 , -1.5257027 , -1.0874999 ],\n",
       "       [ 1.2062632 ,  0.37979463,  0.13509741],\n",
       "       [ 0.0201266 ,  2.3774683 ,  0.3944185 ],\n",
       "       [-0.01281326, -1.1135162 ,  0.07573131],\n",
       "       [ 0.2640244 , -0.45355892,  1.4384463 ],\n",
       "       [-0.24440643,  2.933116  , -0.9633912 ]], dtype=float32)>"
      ]
     },
     "execution_count": 15,
     "metadata": {},
     "output_type": "execute_result"
    }
   ],
   "source": [
    "a[1].shape\n",
    "a[1,2]#以照片为例，就是第一张照片的第三行"
   ]
  },
  {
   "cell_type": "code",
   "execution_count": 16,
   "metadata": {},
   "outputs": [
    {
     "data": {
      "text/plain": [
       "TensorShape([10, 3, 3])"
      ]
     },
     "execution_count": 16,
     "metadata": {},
     "output_type": "execute_result"
    }
   ],
   "source": [
    "data = tf.range(3000)\n",
    "data = tf.reshape(data,[10,100,3])\n",
    "#例子:data:[classes,students,subjects]\n",
    "tf.gather(data,axis=1,indices=[9,16,30]).shape#TensorShape([10, 3, 3])\n"
   ]
  },
  {
   "cell_type": "code",
   "execution_count": 17,
   "metadata": {},
   "outputs": [],
   "source": [
    "tf.gather_nd(data,[0])#0班的所有人的所有成绩\n",
    "tf.gather_nd(data,[0,1])#0班的1号学生的所有成绩\n",
    "a = tf.gather_nd(data,[[0,0,0],[0,0,1]])#<tf.Tensor: shape=(2,), dtype=int32, numpy=array([0, 1])>"
   ]
  },
  {
   "cell_type": "code",
   "execution_count": 18,
   "metadata": {},
   "outputs": [
    {
     "data": {
      "text/plain": [
       "<tf.Tensor: shape=(2, 3), dtype=int32, numpy=\n",
       "array([[0, 1, 2],\n",
       "       [3, 4, 5]])>"
      ]
     },
     "execution_count": 18,
     "metadata": {},
     "output_type": "execute_result"
    }
   ],
   "source": [
    "tf.gather_nd(data,[[0,0],[0,1]])"
   ]
  },
  {
   "cell_type": "code",
   "execution_count": 19,
   "metadata": {},
   "outputs": [
    {
     "data": {
      "text/plain": [
       "TensorShape([10, 100, 3])"
      ]
     },
     "execution_count": 19,
     "metadata": {},
     "output_type": "execute_result"
    }
   ],
   "source": [
    "data.shape"
   ]
  },
  {
   "cell_type": "code",
   "execution_count": 20,
   "metadata": {},
   "outputs": [
    {
     "data": {
      "text/plain": [
       "<tf.Tensor: shape=(4, 4), dtype=float32, numpy=\n",
       "array([[1., 1., 1., 1.],\n",
       "       [1., 1., 1., 1.],\n",
       "       [1., 1., 1., 1.],\n",
       "       [1., 1., 1., 1.]], dtype=float32)>"
      ]
     },
     "execution_count": 20,
     "metadata": {},
     "output_type": "execute_result"
    }
   ],
   "source": [
    "a =tf.ones([2,3,4])\n",
    "tf.boolean_mask(a,mask=[[True,False,False],[True,True,True]])#对应[2,3]"
   ]
  },
  {
   "cell_type": "code",
   "execution_count": 21,
   "metadata": {},
   "outputs": [
    {
     "data": {
      "text/plain": [
       "TensorShape([4, 784, 3])"
      ]
     },
     "execution_count": 21,
     "metadata": {},
     "output_type": "execute_result"
    }
   ],
   "source": [
    "a = tf.random.normal([4,28,28,3])\n",
    "tf.reshape(a,[4,784,3])\n",
    "tf.reshape(a,[4,-1,3]).shape#-1标志该部分会自动计算，但是要保证非-1部分的状态"
   ]
  },
  {
   "cell_type": "code",
   "execution_count": 22,
   "metadata": {},
   "outputs": [
    {
     "data": {
      "text/plain": [
       "TensorShape([4, 3, 1, 2])"
      ]
     },
     "execution_count": 22,
     "metadata": {},
     "output_type": "execute_result"
    }
   ],
   "source": [
    "a = tf.random.normal((4,3,2,1))\n",
    "a.shape\n",
    "tf.transpose(a).shape#[1,2,3,4]\n",
    "tf.transpose(a,perm = [0,1,3,2]).shape#TensorShape([4, 3, 1, 2])"
   ]
  },
  {
   "cell_type": "code",
   "execution_count": 23,
   "metadata": {},
   "outputs": [
    {
     "data": {
      "text/plain": [
       "TensorShape([1, 4, 35, 8])"
      ]
     },
     "execution_count": 23,
     "metadata": {},
     "output_type": "execute_result"
    }
   ],
   "source": [
    "a = tf.random.normal([4,35,8])\n",
    "tf.expand_dims(a,axis=0).shape#TensorShape([1, 4, 35, 8])在前方增加"
   ]
  },
  {
   "cell_type": "code",
   "execution_count": 24,
   "metadata": {},
   "outputs": [
    {
     "data": {
      "text/plain": [
       "TensorShape([2, 3])"
      ]
     },
     "execution_count": 24,
     "metadata": {},
     "output_type": "execute_result"
    }
   ],
   "source": [
    "tf.squeeze(tf.zeros([1,2,1,1,1,3])).shape#TensorShape([2, 3])"
   ]
  },
  {
   "cell_type": "code",
   "execution_count": 25,
   "metadata": {},
   "outputs": [
    {
     "data": {
      "text/plain": [
       "TensorShape([4, 23, 23, 3])"
      ]
     },
     "execution_count": 25,
     "metadata": {},
     "output_type": "execute_result"
    }
   ],
   "source": [
    "b = tf.broadcast_to(tf.random.normal([4,1,1,1]),[4,23,23,3])\n",
    "b.shape#TensorShape([4, 23, 23, 3])"
   ]
  },
  {
   "cell_type": "code",
   "execution_count": 26,
   "metadata": {},
   "outputs": [
    {
     "data": {
      "text/plain": [
       "TensorShape([4, 2, 5])"
      ]
     },
     "execution_count": 26,
     "metadata": {},
     "output_type": "execute_result"
    }
   ],
   "source": [
    "a = tf.ones([4,2,3])\n",
    "b = tf.fill([4,3,5],2.)\n",
    "(a@b).shape#TensorShape([4, 2, 5])\n",
    "tf.matmul(a,b).shape#TensorShape([4, 2, 5])"
   ]
  },
  {
   "cell_type": "code",
   "execution_count": 27,
   "metadata": {},
   "outputs": [
    {
     "data": {
      "text/plain": [
       "<tf.Tensor: shape=(4, 1), dtype=float32, numpy=\n",
       "array([[2.1],\n",
       "       [2.1],\n",
       "       [2.1],\n",
       "       [2.1]], dtype=float32)>"
      ]
     },
     "execution_count": 27,
     "metadata": {},
     "output_type": "execute_result"
    }
   ],
   "source": [
    "x = tf.ones([4,2])\n",
    "w = tf.ones([2,1])\n",
    "b = tf.constant(0.1)\n",
    "out = x@w+b\n",
    "'''\n",
    "<tf.Tensor: shape=(4, 1), dtype=float32, numpy=\n",
    "array([[2.1],\n",
    "       [2.1],\n",
    "       [2.1],\n",
    "       [2.1]], dtype=float32)>\n",
    "'''\n",
    "out = tf.nn.relu(out)\n",
    "out"
   ]
  },
  {
   "cell_type": "code",
   "execution_count": 28,
   "metadata": {},
   "outputs": [
    {
     "data": {
      "text/plain": [
       "TensorShape([6, 35, 8])"
      ]
     },
     "execution_count": 28,
     "metadata": {},
     "output_type": "execute_result"
    }
   ],
   "source": [
    "a = tf.ones([4,35,8])\n",
    "b = tf.ones([2,35,8])\n",
    "c = tf.concat([a,b],axis=0)\n",
    "c.shape#TensorShape([6, 35, 8])"
   ]
  },
  {
   "cell_type": "code",
   "execution_count": 35,
   "metadata": {},
   "outputs": [
    {
     "data": {
      "text/plain": [
       "(TensorShape([4, 35, 8]), TensorShape([4, 35, 8]))"
      ]
     },
     "execution_count": 35,
     "metadata": {},
     "output_type": "execute_result"
    }
   ],
   "source": [
    "a = tf.ones([4,35,8])\n",
    "b = tf.ones([4,35,8])\n",
    "\n",
    "c = tf.stack([a,b],axis=0)\n",
    "c.shape#TensorShape([2, 4, 35, 8])\n",
    "aa,bb = tf.unstack(c,axis=0)\n",
    "aa.shape,bb.shape#(TensorShape([4, 35, 8]), TensorShape([4, 35, 8]))"
   ]
  },
  {
   "cell_type": "code",
   "execution_count": 38,
   "metadata": {},
   "outputs": [
    {
     "data": {
      "text/plain": [
       "(TensorShape([2, 4, 35, 10]),\n",
       " TensorShape([3, 4, 35, 10]),\n",
       " TensorShape([5, 4, 35, 10]))"
      ]
     },
     "execution_count": 38,
     "metadata": {},
     "output_type": "execute_result"
    }
   ],
   "source": [
    "a = tf.ones([10,4,35,10])\n",
    "res = tf.split(a,axis=0,num_or_size_splits=2)\n",
    "len(res)#2\n",
    "res = tf.split(a,axis=0,num_or_size_splits=[2,3,5])\n",
    "res[0].shape,res[1].shape,res[2].shape\n",
    "'''\n",
    "(TensorShape([2, 4, 35, 10]),\n",
    " TensorShape([3, 4, 35, 10]),\n",
    " TensorShape([5, 4, 35, 10]))\n",
    "'''"
   ]
  },
  {
   "cell_type": "code",
   "execution_count": 39,
   "metadata": {},
   "outputs": [
    {
     "data": {
      "text/plain": [
       "<tf.Tensor: shape=(), dtype=float32, numpy=2.0>"
      ]
     },
     "execution_count": 39,
     "metadata": {},
     "output_type": "execute_result"
    }
   ],
   "source": [
    "a = tf.ones([2,2])\n",
    "tf.norm(a)#<tf.Tensor: shape=(), dtype=float32, numpy=2.0>"
   ]
  },
  {
   "cell_type": "code",
   "execution_count": 48,
   "metadata": {},
   "outputs": [
    {
     "data": {
      "text/plain": [
       "<tf.Tensor: shape=(5,), dtype=int64, numpy=array([1, 1, 1, 1, 1], dtype=int64)>"
      ]
     },
     "execution_count": 48,
     "metadata": {},
     "output_type": "execute_result"
    }
   ],
   "source": [
    "a =tf.range(10)\n",
    "a = tf.reshape(a,[2,5])\n",
    "tf.argmax(a)"
   ]
  },
  {
   "cell_type": "code",
   "execution_count": 51,
   "metadata": {},
   "outputs": [
    {
     "data": {
      "text/plain": [
       "<tf.Tensor: shape=(5,), dtype=bool, numpy=array([False, False, False, False, False])>"
      ]
     },
     "execution_count": 51,
     "metadata": {},
     "output_type": "execute_result"
    }
   ],
   "source": [
    "a = tf.constant([1,2,3,4,5])\n",
    "b = tf.range(5)\n",
    "tf.equal(a,b)"
   ]
  },
  {
   "cell_type": "code",
   "execution_count": 52,
   "metadata": {},
   "outputs": [
    {
     "data": {
      "text/plain": [
       "Unique(y=<tf.Tensor: shape=(3,), dtype=int32, numpy=array([4, 2, 3])>, idx=<tf.Tensor: shape=(5,), dtype=int32, numpy=array([0, 1, 1, 0, 2])>)"
      ]
     },
     "execution_count": 52,
     "metadata": {},
     "output_type": "execute_result"
    }
   ],
   "source": [
    "a = tf.constant([4,2,2,4,3])\n",
    "tf.unique(a)\n",
    "#Unique(y=<tf.Tensor: shape=(3,), dtype=int32, numpy=array([4, 2, 3])>, idx=<tf.Tensor: shape=(5,), dtype=int32, numpy=array([0, 1, 1, 0, 2])>)"
   ]
  },
  {
   "cell_type": "code",
   "execution_count": 55,
   "metadata": {},
   "outputs": [
    {
     "data": {
      "text/plain": [
       "<tf.Tensor: shape=(5,), dtype=int32, numpy=array([4, 3, 2, 1, 0])>"
      ]
     },
     "execution_count": 55,
     "metadata": {},
     "output_type": "execute_result"
    }
   ],
   "source": [
    "a = tf.random.shuffle(tf.range(5))\n",
    "tf.sort(a,direction='DESCENDING')#<tf.Tensor: shape=(5,), dtype=int32, numpy=array([4, 3, 2, 1, 0])>\n",
    "#direction: The direction in which to sort the values ('ASCENDING' or'DESCENDING').\n",
    "tf.argsort(a)#<tf.Tensor: shape=(5,), dtype=int32, numpy=array([0, 2, 3, 1, 4])>"
   ]
  },
  {
   "cell_type": "code",
   "execution_count": 57,
   "metadata": {},
   "outputs": [
    {
     "data": {
      "text/plain": [
       "<tf.Tensor: shape=(3, 2), dtype=int32, numpy=\n",
       "array([[8, 6],\n",
       "       [9, 7],\n",
       "       [5, 4]])>"
      ]
     },
     "execution_count": 57,
     "metadata": {},
     "output_type": "execute_result"
    }
   ],
   "source": [
    "a = tf.constant([\n",
    "    [4,6,8],\n",
    "    [9,4,7],\n",
    "    [4,5,1]\n",
    "])\n",
    "res = tf.math.top_k(a,2)\n",
    "res.indices#返回索引\n",
    "'''\n",
    "<tf.Tensor: shape=(3, 2), dtype=int32, numpy=\n",
    "array([[2, 1],\n",
    "       [0, 2],\n",
    "       [1, 0]])>\n",
    "'''\n",
    "res.values#返回值\n",
    "'''\n",
    "<tf.Tensor: shape=(3, 2), dtype=int32, numpy=\n",
    "array([[8, 6],\n",
    "       [9, 7],\n",
    "       [5, 4]])>\n",
    "'''"
   ]
  },
  {
   "cell_type": "code",
   "execution_count": 59,
   "metadata": {},
   "outputs": [
    {
     "data": {
      "text/plain": [
       "<tf.Tensor: shape=(3, 5), dtype=int32, numpy=\n",
       "array([[0, 4, 6, 8, 0],\n",
       "       [0, 9, 4, 7, 0],\n",
       "       [0, 4, 5, 1, 0]])>"
      ]
     },
     "execution_count": 59,
     "metadata": {},
     "output_type": "execute_result"
    }
   ],
   "source": [
    "a = tf.constant([\n",
    "    [4,6,8],\n",
    "    [9,4,7],\n",
    "    [4,5,1]\n",
    "])\n",
    "tf.pad(a,[[0,0],[1,1]])\n",
    "'''\n",
    "<tf.Tensor: shape=(3, 5), dtype=int32, numpy=\n",
    "array([[0, 4, 6, 8, 0],\n",
    "       [0, 9, 4, 7, 0],\n",
    "       [0, 4, 5, 1, 0]])>\n",
    "'''"
   ]
  },
  {
   "cell_type": "code",
   "execution_count": 60,
   "metadata": {},
   "outputs": [
    {
     "data": {
      "text/plain": [
       "<tf.Tensor: shape=(3, 6), dtype=int32, numpy=\n",
       "array([[4, 6, 8, 4, 6, 8],\n",
       "       [9, 4, 7, 9, 4, 7],\n",
       "       [4, 5, 1, 4, 5, 1]])>"
      ]
     },
     "execution_count": 60,
     "metadata": {},
     "output_type": "execute_result"
    }
   ],
   "source": [
    "a = tf.constant([\n",
    "    [4,6,8],\n",
    "    [9,4,7],\n",
    "    [4,5,1]\n",
    "])\n",
    "tf.tile(a,[1,2])#[1,2]1表示第一个维度复制的次数，2表示第二个维度复制1次\n",
    "'''\n",
    "<tf.Tensor: shape=(3, 6), dtype=int32, numpy=\n",
    "array([[4, 6, 8, 4, 6, 8],\n",
    "       [9, 4, 7, 9, 4, 7],\n",
    "       [4, 5, 1, 4, 5, 1]])>\n",
    "'''"
   ]
  },
  {
   "cell_type": "code",
   "execution_count": 63,
   "metadata": {},
   "outputs": [
    {
     "data": {
      "text/plain": [
       "<tf.Tensor: shape=(10,), dtype=int32, numpy=array([2, 2, 2, 3, 4, 5, 6, 7, 8, 8])>"
      ]
     },
     "execution_count": 63,
     "metadata": {},
     "output_type": "execute_result"
    }
   ],
   "source": [
    "a = tf.range(10)\n",
    "tf.maximum(a,2)#数据的下限 ，也就是说如果小于2则变为2\n",
    "tf.minimum(a,8)#数据的上限\n",
    "tf.clip_by_value(a,2,8)#直接限定上下限\n",
    "#<tf.Tensor: shape=(10,), dtype=int32, numpy=array([2, 2, 2, 3, 4, 5, 6, 7, 8, 8])>"
   ]
  },
  {
   "cell_type": "code",
   "execution_count": 67,
   "metadata": {},
   "outputs": [
    {
     "data": {
      "text/plain": [
       "<tf.Tensor: shape=(), dtype=float32, numpy=15.000001>"
      ]
     },
     "execution_count": 67,
     "metadata": {},
     "output_type": "execute_result"
    }
   ],
   "source": [
    "a = tf.random.normal([2,2],mean=10)\n",
    "tf.norm(a)#<tf.Tensor: shape=(), dtype=float32, numpy=20.50416>\n",
    "aa =tf.clip_by_norm(a,15)\n",
    "tf.norm(aa)#<tf.Tensor: shape=(), dtype=float32, numpy=15.000001>"
   ]
  },
  {
   "cell_type": "code",
   "execution_count": 72,
   "metadata": {},
   "outputs": [],
   "source": [
    "a = tf.random.normal([3,3])\n",
    "mask = a >0\n",
    "tf.boolean_mask(a,mask)#返回mask对应的数值\n",
    "indices =  tf.where(mask)#返回mask中true的坐标"
   ]
  },
  {
   "cell_type": "code",
   "execution_count": 74,
   "metadata": {},
   "outputs": [
    {
     "data": {
      "text/plain": [
       "<tf.Tensor: shape=(3, 3), dtype=float32, numpy=\n",
       "array([[0., 1., 0.],\n",
       "       [0., 0., 0.],\n",
       "       [1., 1., 1.]], dtype=float32)>"
      ]
     },
     "execution_count": 74,
     "metadata": {},
     "output_type": "execute_result"
    }
   ],
   "source": [
    "A = tf.ones([3,3])\n",
    "B = tf.zeros([3,3])\n",
    "tf.where(mask,A,B)#mask中ture的位置返回A的元素，False返回B\n",
    "'''\n",
    "<tf.Tensor: shape=(3, 3), dtype=float32, numpy=\n",
    "array([[0., 1., 0.],\n",
    "       [0., 0., 0.],\n",
    "       [1., 1., 1.]], dtype=float32)>\n",
    "'''"
   ]
  },
  {
   "cell_type": "code",
   "execution_count": 77,
   "metadata": {},
   "outputs": [
    {
     "data": {
      "text/plain": [
       "<tf.Tensor: shape=(1,), dtype=int32, numpy=array([8])>"
      ]
     },
     "execution_count": 77,
     "metadata": {},
     "output_type": "execute_result"
    }
   ],
   "source": [
    "shape = tf.constant([8])\n",
    "shape"
   ]
  },
  {
   "cell_type": "code",
   "execution_count": 84,
   "metadata": {},
   "outputs": [
    {
     "data": {
      "text/plain": [
       "<tf.Tensor: shape=(5, 5, 2), dtype=float32, numpy=\n",
       "array([[[-2., -2.],\n",
       "        [-1., -2.],\n",
       "        [ 0., -2.],\n",
       "        [ 1., -2.],\n",
       "        [ 2., -2.]],\n",
       "\n",
       "       [[-2., -1.],\n",
       "        [-1., -1.],\n",
       "        [ 0., -1.],\n",
       "        [ 1., -1.],\n",
       "        [ 2., -1.]],\n",
       "\n",
       "       [[-2.,  0.],\n",
       "        [-1.,  0.],\n",
       "        [ 0.,  0.],\n",
       "        [ 1.,  0.],\n",
       "        [ 2.,  0.]],\n",
       "\n",
       "       [[-2.,  1.],\n",
       "        [-1.,  1.],\n",
       "        [ 0.,  1.],\n",
       "        [ 1.,  1.],\n",
       "        [ 2.,  1.]],\n",
       "\n",
       "       [[-2.,  2.],\n",
       "        [-1.,  2.],\n",
       "        [ 0.,  2.],\n",
       "        [ 1.,  2.],\n",
       "        [ 2.,  2.]]], dtype=float32)>"
      ]
     },
     "execution_count": 84,
     "metadata": {},
     "output_type": "execute_result"
    }
   ],
   "source": [
    "y = tf.linspace(-2.,2,5)\n",
    "x = tf.linspace(-2.,2,5)\n",
    "\n",
    "points_x, points_y=tf.meshgrid(x,y)\n",
    "points_x.shape#TensorShape([5, 5])\n",
    "points = tf.stack([points_x,points_y],axis=2)\n",
    "points"
   ]
  },
  {
   "cell_type": "code",
   "execution_count": null,
   "metadata": {},
   "outputs": [],
   "source": []
  }
 ],
 "metadata": {
  "interpreter": {
   "hash": "2e8db0730c91600a5349938b5440aa07dc44fbf5b422a40c9df5fa4ade778ff1"
  },
  "kernelspec": {
   "display_name": "Python 3.8.13 ('test')",
   "language": "python",
   "name": "python3"
  },
  "language_info": {
   "codemirror_mode": {
    "name": "ipython",
    "version": 3
   },
   "file_extension": ".py",
   "mimetype": "text/x-python",
   "name": "python",
   "nbconvert_exporter": "python",
   "pygments_lexer": "ipython3",
   "version": "3.8.13"
  },
  "orig_nbformat": 4
 },
 "nbformat": 4,
 "nbformat_minor": 2
}
