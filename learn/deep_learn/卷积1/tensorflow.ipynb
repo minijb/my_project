{
 "cells": [
  {
   "cell_type": "code",
   "execution_count": 65,
   "metadata": {},
   "outputs": [],
   "source": [
    "import tensorflow as tf\n",
    "from tensorflow import keras\n",
    "from tensorflow.keras import layers,optimizers,datasets"
   ]
  },
  {
   "cell_type": "code",
   "execution_count": 66,
   "metadata": {},
   "outputs": [
    {
     "name": "stdout",
     "output_type": "stream",
     "text": [
      "(60000, 28, 28) (60000, 10)\n"
     ]
    }
   ],
   "source": [
    "(x,y),(x_val,y_val)= datasets.mnist.load_data()\n",
    "x = tf.convert_to_tensor(x,dtype=tf.float32)/255\n",
    "y = tf.convert_to_tensor(y,dtype=tf.int32)\n",
    "y = tf.one_hot(y,depth=10)\n",
    "print(x.shape,y.shape)"
   ]
  },
  {
   "cell_type": "code",
   "execution_count": 67,
   "metadata": {},
   "outputs": [],
   "source": [
    "train_datasets = tf.data.Dataset.from_tensor_slices((x,y))\n",
    "train_datasets = train_datasets.batch(200)#一次加载200\n",
    "\n",
    "model = keras.Sequential([\n",
    "    layers.Dense(512,activation='relu'),\n",
    "    layers.Dense(256,activation='relu'),\n",
    "    layers.Dense(10)\n",
    "])\n",
    "\n",
    "optimizer = optimizers.SGD(learning_rate=0.001)\n",
    "\n",
    "def train_epoch(epoch):\n",
    "    for step,(x,y) in enumerate(train_datasets):\n",
    "        with tf.GradientTape() as tape:\n",
    "            x = tf.reshape(x,(-1,28*28))\n",
    "            out = model(x)\n",
    "            loss = tf.reduce_sum(tf.square(out-y))/x.shape[0]\n",
    "        grads = tape.gradient(loss,model.trainable_variables)\n",
    "        optimizer.apply_gradients(zip(grads,model.trainable_variables))\n",
    "        if step%100==0:\n",
    "            print(epoch,step,'loss',loss.numpy())\n",
    "\n",
    "def train():\n",
    "    for epoch in range(30):\n",
    "        train_epoch(epoch)\n",
    "        "
   ]
  },
  {
   "cell_type": "code",
   "execution_count": 68,
   "metadata": {},
   "outputs": [
    {
     "name": "stdout",
     "output_type": "stream",
     "text": [
      "0 0 loss 1.7625031\n",
      "0 100 loss 0.9444979\n",
      "0 200 loss 0.72480285\n",
      "1 0 loss 0.6523611\n",
      "1 100 loss 0.67839974\n",
      "1 200 loss 0.5498152\n",
      "2 0 loss 0.5394672\n",
      "2 100 loss 0.58616126\n",
      "2 200 loss 0.4764938\n",
      "3 0 loss 0.48424017\n",
      "3 100 loss 0.5335238\n",
      "3 200 loss 0.4342777\n",
      "4 0 loss 0.44840726\n",
      "4 100 loss 0.49651787\n",
      "4 200 loss 0.4054079\n",
      "5 0 loss 0.42194617\n",
      "5 100 loss 0.46808028\n",
      "5 200 loss 0.38401386\n",
      "6 0 loss 0.40104303\n",
      "6 100 loss 0.44490865\n",
      "6 200 loss 0.36721802\n",
      "7 0 loss 0.3835717\n",
      "7 100 loss 0.42558825\n",
      "7 200 loss 0.3532012\n",
      "8 0 loss 0.36860797\n",
      "8 100 loss 0.40924984\n",
      "8 200 loss 0.34118935\n",
      "9 0 loss 0.35565904\n",
      "9 100 loss 0.39514664\n",
      "9 200 loss 0.33082816\n",
      "10 0 loss 0.34412017\n",
      "10 100 loss 0.38280246\n",
      "10 200 loss 0.32158008\n",
      "11 0 loss 0.33373788\n",
      "11 100 loss 0.37176675\n",
      "11 200 loss 0.31322974\n",
      "12 0 loss 0.3243591\n",
      "12 100 loss 0.3617905\n",
      "12 200 loss 0.30567127\n",
      "13 0 loss 0.31600037\n",
      "13 100 loss 0.35277313\n",
      "13 200 loss 0.29881462\n",
      "14 0 loss 0.308403\n",
      "14 100 loss 0.34448653\n",
      "14 200 loss 0.29239747\n",
      "15 0 loss 0.3014571\n",
      "15 100 loss 0.33689895\n",
      "15 200 loss 0.28636914\n",
      "16 0 loss 0.2950567\n",
      "16 100 loss 0.32999176\n",
      "16 200 loss 0.2807505\n",
      "17 0 loss 0.28911945\n",
      "17 100 loss 0.32365578\n",
      "17 200 loss 0.2754709\n",
      "18 0 loss 0.28353524\n",
      "18 100 loss 0.31775892\n",
      "18 200 loss 0.27065593\n",
      "19 0 loss 0.27833104\n",
      "19 100 loss 0.31224102\n",
      "19 200 loss 0.26619434\n",
      "20 0 loss 0.2734771\n",
      "20 100 loss 0.30708286\n",
      "20 200 loss 0.26199514\n",
      "21 0 loss 0.2689414\n",
      "21 100 loss 0.30226275\n",
      "21 200 loss 0.25801852\n",
      "22 0 loss 0.2646737\n",
      "22 100 loss 0.2977262\n",
      "22 200 loss 0.2542405\n",
      "23 0 loss 0.26062608\n",
      "23 100 loss 0.2934394\n",
      "23 200 loss 0.25067136\n",
      "24 0 loss 0.256824\n",
      "24 100 loss 0.28944027\n",
      "24 200 loss 0.2473464\n",
      "25 0 loss 0.25322595\n",
      "25 100 loss 0.28567928\n",
      "25 200 loss 0.24417093\n",
      "26 0 loss 0.24983148\n",
      "26 100 loss 0.28211725\n",
      "26 200 loss 0.24113466\n",
      "27 0 loss 0.24658962\n",
      "27 100 loss 0.27871832\n",
      "27 200 loss 0.23827314\n",
      "28 0 loss 0.24350578\n",
      "28 100 loss 0.27552384\n",
      "28 200 loss 0.23554108\n",
      "29 0 loss 0.2405868\n",
      "29 100 loss 0.2724864\n",
      "29 200 loss 0.23294155\n"
     ]
    }
   ],
   "source": [
    "train()"
   ]
  },
  {
   "cell_type": "code",
   "execution_count": 69,
   "metadata": {},
   "outputs": [
    {
     "data": {
      "text/plain": [
       "<tf.Tensor: shape=(), dtype=float64, numpy=1.0>"
      ]
     },
     "execution_count": 69,
     "metadata": {},
     "output_type": "execute_result"
    }
   ],
   "source": [
    "tf.constant(1,shape=(),dtype=tf.double)"
   ]
  },
  {
   "cell_type": "code",
   "execution_count": 70,
   "metadata": {},
   "outputs": [
    {
     "name": "stdout",
     "output_type": "stream",
     "text": [
      "/job:localhost/replica:0/task:0/device:GPU:0 /job:localhost/replica:0/task:0/device:CPU:0\n"
     ]
    }
   ],
   "source": [
    "with tf.device('/gpu:0'):\n",
    "    a = tf.constant(1)\n",
    "with tf.device('/cpu:0'):\n",
    "    b = tf.constant([1,2,3,4])\n",
    "print(a.device,b.device)"
   ]
  },
  {
   "cell_type": "code",
   "execution_count": 71,
   "metadata": {},
   "outputs": [
    {
     "data": {
      "text/plain": [
       "'/job:localhost/replica:0/task:0/device:CPU:0'"
      ]
     },
     "execution_count": 71,
     "metadata": {},
     "output_type": "execute_result"
    }
   ],
   "source": [
    "aa = a.cpu()\n",
    "aa.device"
   ]
  },
  {
   "cell_type": "code",
   "execution_count": 72,
   "metadata": {},
   "outputs": [
    {
     "data": {
      "text/plain": [
       "array([1, 2, 3, 4])"
      ]
     },
     "execution_count": 72,
     "metadata": {},
     "output_type": "execute_result"
    }
   ],
   "source": [
    "b.numpy()"
   ]
  }
 ],
 "metadata": {
  "interpreter": {
   "hash": "2e8db0730c91600a5349938b5440aa07dc44fbf5b422a40c9df5fa4ade778ff1"
  },
  "kernelspec": {
   "display_name": "Python 3.8.13 ('test')",
   "language": "python",
   "name": "python3"
  },
  "language_info": {
   "codemirror_mode": {
    "name": "ipython",
    "version": 3
   },
   "file_extension": ".py",
   "mimetype": "text/x-python",
   "name": "python",
   "nbconvert_exporter": "python",
   "pygments_lexer": "ipython3",
   "version": "3.8.13"
  },
  "orig_nbformat": 4
 },
 "nbformat": 4,
 "nbformat_minor": 2
}
