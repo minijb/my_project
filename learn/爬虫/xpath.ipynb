{
 "cells": [
  {
   "cell_type": "code",
   "execution_count": 10,
   "metadata": {},
   "outputs": [],
   "source": [
    "from lxml import etree"
   ]
  },
  {
   "cell_type": "code",
   "execution_count": 11,
   "metadata": {},
   "outputs": [],
   "source": [
    "xml = '''\n",
    "<book>\n",
    "    <id>1</id>\n",
    "    <name>ok</name>\n",
    "    <author>\n",
    "        <nick id=\"10086\">zhouhao1</nick>\n",
    "        <nick id=\"10089\">zhouhao2</nick>\n",
    "        <nick class=\"1\">zhouhao3</nick>\n",
    "        <nick class=\"1\">zhouhao4</nick>\n",
    "        <div>\n",
    "            <nick>rrrrrrr</nick>\n",
    "        </div>\n",
    "    </author>\n",
    "</book>\n",
    "'''"
   ]
  },
  {
   "cell_type": "code",
   "execution_count": 12,
   "metadata": {},
   "outputs": [
    {
     "data": {
      "text/plain": [
       "['zhouhao1', 'zhouhao2', 'zhouhao3', 'zhouhao4']"
      ]
     },
     "execution_count": 12,
     "metadata": {},
     "output_type": "execute_result"
    }
   ],
   "source": [
    "tree = etree.XML(xml)\n",
    "result = tree.xpath(\"/book/author/nick/text()\")\n",
    "result"
   ]
  },
  {
   "cell_type": "code",
   "execution_count": 16,
   "metadata": {},
   "outputs": [
    {
     "data": {
      "text/plain": [
       "['rrrrrrr']"
      ]
     },
     "execution_count": 16,
     "metadata": {},
     "output_type": "execute_result"
    }
   ],
   "source": [
    "result = tree.xpath(\"/book/author/*/nick/text()\")\n",
    "result"
   ]
  }
 ],
 "metadata": {
  "interpreter": {
   "hash": "2e8db0730c91600a5349938b5440aa07dc44fbf5b422a40c9df5fa4ade778ff1"
  },
  "kernelspec": {
   "display_name": "Python 3.8.13 ('test')",
   "language": "python",
   "name": "python3"
  },
  "language_info": {
   "codemirror_mode": {
    "name": "ipython",
    "version": 3
   },
   "file_extension": ".py",
   "mimetype": "text/x-python",
   "name": "python",
   "nbconvert_exporter": "python",
   "pygments_lexer": "ipython3",
   "version": "3.8.13"
  },
  "orig_nbformat": 4
 },
 "nbformat": 4,
 "nbformat_minor": 2
}
