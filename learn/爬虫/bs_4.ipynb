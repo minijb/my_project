{
 "cells": [
  {
   "cell_type": "code",
   "execution_count": 6,
   "metadata": {},
   "outputs": [],
   "source": [
    "import requests\n",
    "from bs4 import BeautifulSoup"
   ]
  },
  {
   "cell_type": "code",
   "execution_count": null,
   "metadata": {},
   "outputs": [],
   "source": [
    "url = 'https://www.construdip.com/marketanalysis/0/list/1.shtml'\n",
    "\n",
    "resp = requests.get(url)\n",
    "\n",
    "print(resp.text)"
   ]
  },
  {
   "cell_type": "code",
   "execution_count": 15,
   "metadata": {},
   "outputs": [
    {
     "name": "stdout",
     "output_type": "stream",
     "text": [
      "大白菜 -- 0.45 -- 0.48 -- 0.50 -- \\新 -- 斤 -- 2021-07-16 --  -- \n",
      "\n",
      "娃娃菜 -- 0.50 -- 0.60 -- 0.70 -- 大\\冀新 -- 斤 -- 2021-07-16 --  -- \n",
      "\n",
      "小白菜 -- 1.40 -- 1.55 -- 1.70 -- 普通 -- 斤 -- 2021-07-16 --  -- \n",
      "\n",
      "芹菜 -- 1.00 -- 1.10 -- 1.20 -- \\冀 -- 斤 -- 2021-07-16 --  -- \n",
      "\n",
      "西芹 -- 1.80 -- 2.00 -- 2.20 -- 普通 -- 斤 -- 2021-07-16 --  -- \n",
      "\n",
      "菠菜 -- 1.50 -- 2.00 -- 2.50 -- \\蒙 -- 斤 -- 2021-07-16 --  -- \n",
      "\n",
      "莴笋 -- 0.80 -- 0.90 -- 1.00 -- 普通 -- 斤 -- 2021-07-16 --  -- \n",
      "\n",
      "团生菜 -- 1.00 -- 1.50 -- 2.00 -- 毛|净 -- 斤 -- 2021-07-16 --  -- \n",
      "\n",
      "圆白菜 -- 0.50 -- 0.65 -- 0.80 -- \\冀 -- 斤 -- 2021-07-16 --  -- \n",
      "\n",
      "紫甘蓝 -- 0.60 -- 0.70 -- 0.80 -- 冀 -- 斤 -- 2021-07-16 --  -- \n",
      "\n",
      "散叶生菜 -- 2.00 -- 2.25 -- 2.50 -- \\京冀 -- 斤 -- 2021-07-16 --  -- \n",
      "\n",
      "油菜 -- 1.50 -- 1.60 -- 1.70 -- \\京冀 -- 斤 -- 2021-07-16 --  -- \n",
      "\n",
      "香菜 -- 4.00 -- 5.50 -- 7.00 -- \\冀 -- 斤 -- 2021-07-16 --  -- \n",
      "\n",
      "茴香 -- 2.00 -- 2.25 -- 2.50 -- \\冀 -- 斤 -- 2021-07-16 --  -- \n",
      "\n",
      "韭菜 -- 1.00 -- 1.25 -- 1.50 -- 普通 -- 斤 -- 2021-07-16 --  -- \n",
      "\n",
      "韭菜苔 -- 3.20 -- 3.50 -- 3.80 -- 普通 -- 斤 -- 2021-07-16 --  -- \n",
      "\n",
      "苦菊 -- 3.00 -- 3.50 -- 4.00 -- 辽 -- 斤 -- 2021-07-16 --  -- \n",
      "\n",
      "油麦菜 -- 1.80 -- 1.90 -- 2.00 -- \\京 -- 斤 -- 2021-07-16 --  -- \n",
      "\n",
      "散菜花 -- 1.20 -- 1.40 -- 1.60 -- 豫\\苏 -- 斤 -- 2021-07-16 --  -- \n",
      "\n",
      "绿菜花 -- 1.50 -- 1.75 -- 2.00 -- 京\\ 冀 -- 斤 -- 2021-07-16 --  -- \n",
      "\n"
     ]
    }
   ],
   "source": [
    "#将数据交给bs处理\n",
    "page = BeautifulSoup(resp.text,'html.parser')\n",
    "#通过bs对象查找数据---find，findall\n",
    "#page.find(标签，属性)\n",
    "table = page.find('table',attrs ={\"class\":\"hq_table\"})#class是关键字\n",
    "trs = table.find_all('tr')[1:]\n",
    "for tr in trs:\n",
    "    tds = tr.find_all('td')\n",
    "    # print(tds[0].text)#.text拿到被标签标记的内容\n",
    "    for td in tds:\n",
    "        print(td.text,end=' -- ')\n",
    "    print('\\n')"
   ]
  },
  {
   "cell_type": "code",
   "execution_count": null,
   "metadata": {},
   "outputs": [],
   "source": []
  },
  {
   "cell_type": "code",
   "execution_count": null,
   "metadata": {},
   "outputs": [],
   "source": []
  },
  {
   "cell_type": "code",
   "execution_count": null,
   "metadata": {},
   "outputs": [],
   "source": []
  },
  {
   "cell_type": "code",
   "execution_count": null,
   "metadata": {},
   "outputs": [],
   "source": []
  },
  {
   "cell_type": "code",
   "execution_count": 9,
   "metadata": {},
   "outputs": [],
   "source": [
    "resp.close()"
   ]
  }
 ],
 "metadata": {
  "interpreter": {
   "hash": "2e8db0730c91600a5349938b5440aa07dc44fbf5b422a40c9df5fa4ade778ff1"
  },
  "kernelspec": {
   "display_name": "Python 3.8.13 ('test')",
   "language": "python",
   "name": "python3"
  },
  "language_info": {
   "codemirror_mode": {
    "name": "ipython",
    "version": 3
   },
   "file_extension": ".py",
   "mimetype": "text/x-python",
   "name": "python",
   "nbconvert_exporter": "python",
   "pygments_lexer": "ipython3",
   "version": "3.8.13"
  },
  "orig_nbformat": 4
 },
 "nbformat": 4,
 "nbformat_minor": 2
}
