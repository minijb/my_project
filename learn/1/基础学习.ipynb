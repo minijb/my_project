{
 "cells": [
  {
   "cell_type": "code",
   "execution_count": null,
   "metadata": {},
   "outputs": [],
   "source": [
    "import numpy as np\n",
    "import os\n",
    "import matplotlib.pyplot as plt\n",
    "plt.rcParams['axes.labelsize'] = 14\n",
    "plt.rcParams['xtick.labelsize']=12\n",
    "plt.rcParams['ytick.labelsize']=12\n",
    "import warnings\n",
    "warnings.filterwarnings('ignore')\n",
    "np.random.seed(42)"
   ]
  },
  {
   "cell_type": "code",
   "execution_count": null,
   "metadata": {},
   "outputs": [],
   "source": [
    "from sklearn.datasets import  fetch_mldata"
   ]
  },
  {
   "cell_type": "code",
   "execution_count": null,
   "metadata": {},
   "outputs": [],
   "source": [
    "minist = fetch_mldata('MNIST original',data_home='./datasets')"
   ]
  },
  {
   "cell_type": "code",
   "execution_count": null,
   "metadata": {},
   "outputs": [],
   "source": [
    "X,y = minist[\"data\"],minist[\"target\"]\n",
    "X.shape#(70000, 784)\n",
    "y.shape#(70000,)\n",
    "#这个数据集其实就是一个灰度图  图像为28*28*1=784个像素"
   ]
  },
  {
   "cell_type": "code",
   "execution_count": null,
   "metadata": {},
   "outputs": [],
   "source": [
    "#指定训练集和测试集\n",
    "#其中X为特征，y为目标值\n",
    "X_train,X_test = X[:60000],X[60000:]\n",
    "y_train,y_test = y[:60000],y[60000:]"
   ]
  },
  {
   "cell_type": "code",
   "execution_count": null,
   "metadata": {},
   "outputs": [],
   "source": [
    "#洗牌操作\n",
    "import numpy as np\n",
    "shuffle_index = np.random.permutation(60000)\n",
    "#Randomly permute a sequence, or return a permuted range.\n",
    "#If x is a multi-dimensional array, it is only shuffled along its first index.\n",
    "#得到一个随机的0-60000的数组\n",
    "shuffle_index#array([30014, 20704, 39358, ..., 16650, 46800,  7085])\n",
    "#把这些索引值回传到训练集中们 就是打乱数据集\n",
    "#注意这里两个集合需要对应\n",
    "X_train ,y_train = X_train[shuffle_index],y_train[shuffle_index]"
   ]
  },
  {
   "cell_type": "code",
   "execution_count": null,
   "metadata": {},
   "outputs": [],
   "source": [
    "#进行交叉验证,为了方便使用，进行二分类操作，\n",
    "#选出数值为5的项\n",
    "y_train_5 = (y_train==5)\n",
    "y_test_5 = (y_test==5)"
   ]
  },
  {
   "cell_type": "code",
   "execution_count": null,
   "metadata": {},
   "outputs": [],
   "source": [
    "from sklearn.linear_model import SGDClassifier\n",
    "sgd_clf = SGDClassifier(max_iter=5,random_state=42)#使用随机种子，确保每次结果一样\n",
    "sgd_clf.fit(X_train,y_train_5)"
   ]
  },
  {
   "cell_type": "code",
   "execution_count": null,
   "metadata": {},
   "outputs": [],
   "source": [
    "#在官方文档中可以查看分类器可以使用的方法如predict来预测数据等\n",
    "sgd_clf.predict([X[35000]])\n",
    "#报错：期望一个二维的样本，但是给了一个一维的样本\n",
    "#返回true  预测正确"
   ]
  },
  {
   "cell_type": "code",
   "execution_count": null,
   "metadata": {},
   "outputs": [],
   "source": [
    "y[32000]"
   ]
  },
  {
   "cell_type": "code",
   "execution_count": null,
   "metadata": {},
   "outputs": [],
   "source": [
    "#进行交叉验证\n",
    "#可以自己选择数据集进行训练，也可以通过sklearn自带的功能来进行交叉验证\n",
    "from sklearn.model_selection import  cross_val_score\n",
    "#注意只需要传入训练集！！！不用自己进行分割\n",
    "cross_val_score(sgd_clf,X_train,y_train,cv=3,scoring='accuracy')#cv为分割策略这里的3为将训练集切分为3份\n",
    "#scirng 为评分方法\n",
    "'''\n",
    "array([0.85442911, 0.85284264, 0.83027454])\n",
    "'''"
   ]
  },
  {
   "cell_type": "code",
   "execution_count": null,
   "metadata": {},
   "outputs": [],
   "source": [
    "#也可以自己手动操作\n",
    "from sklearn.model_selection import  StratifiedKFold\n",
    "from sklearn.base import  clone #可以克隆模型\n",
    "skf = StratifiedKFold(n_splits=3,random_state=42)\n"
   ]
  },
  {
   "cell_type": "code",
   "execution_count": 30,
   "metadata": {},
   "outputs": [
    {
     "name": "stdout",
     "output_type": "stream",
     "text": [
      "16979\n",
      "17328\n"
     ]
    },
    {
     "data": {
      "text/plain": [
       "'\\n16816\\n16979\\n17328\\n'"
      ]
     },
     "execution_count": 30,
     "metadata": {},
     "output_type": "execute_result"
    }
   ],
   "source": [
    "for train_index , vary_index in skf.split(X_train,y_train):#通过split来获得训练集和验证集\n",
    "    clone_clf = clone(sgd_clf)#克隆模型\n",
    "    X_train_folds = X_train[train_index]\n",
    "    y_train_folds =y_train[train_index]\n",
    "    X_test_folds = X_train[vary_index]\n",
    "    y_test_folds = y_train[vary_index]\n",
    "    #铜鼓分类器来训练\n",
    "    clone_clf.fit(X_train_folds,y_train_folds)\n",
    "    y_pred = clone_clf.predict(X_test_folds)\n",
    "    #预测准确率\n",
    "    n_correct= sum(y_pred==y_test_folds)\n",
    "    print(n_correct)\n",
    "'''\n",
    "16816\n",
    "16979\n",
    "17328\n",
    "'''"
   ]
  },
  {
   "cell_type": "code",
   "execution_count": 31,
   "metadata": {},
   "outputs": [],
   "source": [
    "from sklearn.model_selection import cross_val_predict\n",
    "y_train_predict = cross_val_predict(sgd_clf,X_train,y_train_5,cv=3)\n",
    "#(60000,)X：60000因为将训练集分为三分，进行了三次运算，三次验证集加起来为60000"
   ]
  },
  {
   "cell_type": "code",
   "execution_count": 32,
   "metadata": {},
   "outputs": [
    {
     "data": {
      "text/plain": [
       "array([False, False, False, ..., False, False, False])"
      ]
     },
     "execution_count": 32,
     "metadata": {},
     "output_type": "execute_result"
    }
   ],
   "source": [
    "import pandas as pd\n",
    "y_train_predict"
   ]
  },
  {
   "cell_type": "code",
   "execution_count": 33,
   "metadata": {},
   "outputs": [
    {
     "data": {
      "text/plain": [
       "False    54349\n",
       "True      5651\n",
       "dtype: int64"
      ]
     },
     "execution_count": 33,
     "metadata": {},
     "output_type": "execute_result"
    }
   ],
   "source": [
    "pd.Series(y_train_predict).value_counts()"
   ]
  },
  {
   "cell_type": "code",
   "execution_count": 34,
   "metadata": {},
   "outputs": [
    {
     "data": {
      "text/plain": [
       "'\\narray([[53272,  1307],[ 1077,  4344]], dtype=int64)\\n'"
      ]
     },
     "execution_count": 34,
     "metadata": {},
     "output_type": "execute_result"
    }
   ],
   "source": [
    "from sklearn.metrics import confusion_matrix\n",
    "confusion_matrix(y_train_5,y_train_predict)\n",
    "'''\n",
    "array([[53272,  1307],[ 1077,  4344]], dtype=int64)\n",
    "'''"
   ]
  },
  {
   "cell_type": "code",
   "execution_count": 38,
   "metadata": {},
   "outputs": [],
   "source": [
    "y_scores = sgd_clf.decision_function(X[35000:60000])"
   ]
  },
  {
   "cell_type": "code",
   "execution_count": 40,
   "metadata": {},
   "outputs": [
    {
     "data": {
      "text/plain": [
       "array([  43349.73739616,  199462.44873406,  -95877.20355713, ...,\n",
       "       -204517.36515234, -221946.26026495,  -88253.42407613])"
      ]
     },
     "execution_count": 40,
     "metadata": {},
     "output_type": "execute_result"
    }
   ],
   "source": []
  },
  {
   "cell_type": "code",
   "execution_count": 41,
   "metadata": {},
   "outputs": [],
   "source": [
    "from sklearn.metrics import precision_recall_curve\n"
   ]
  },
  {
   "cell_type": "code",
   "execution_count": 43,
   "metadata": {},
   "outputs": [],
   "source": [
    "y_scores=cross_val_predict(sgd_clf,X_train,y_train_5,cv=3,method='decision_function')\n",
    "precision,recall,thresholds = precision_recall_curve(y_train_5,y_scores)\n",
    "#进度，召回率，阈值\n",
    "#可以通过plot打印出来"
   ]
  },
  {
   "cell_type": "code",
   "execution_count": 45,
   "metadata": {},
   "outputs": [],
   "source": [
    "from matplotlib import pyplot as plt"
   ]
  },
  {
   "cell_type": "code",
   "execution_count": 52,
   "metadata": {},
   "outputs": [
    {
     "data": {
      "image/png": "[encoded data removed]",
      "text/plain": [
       "<Figure size 576x288 with 1 Axes>"
      ]
     },
     "metadata": {
      "needs_background": "light"
     },
     "output_type": "display_data"
    }
   ],
   "source": [
    "def plot_pr_recall_threshold(precision,recall,thresholds):\n",
    "    plt.plot(thresholds,precision[:-1],\"b--\",label=\"precision\")\n",
    "    plt.plot(thresholds,recall[:-1],\"g-\",label=\"recall\")\n",
    "    plt.xlabel(\"Threshold\",fontsize=16)\n",
    "    plt.legend(loc=\"upper left\",fontsize=16)\n",
    "    plt.xlim([0,1])\n",
    "plt.figure(figsize=(8,4))\n",
    "plot_pr_recall_threshold(precision,recall,thresholds)\n",
    "plt.xlim([-700000,700000])\n",
    "plt.show()\n"
   ]
  },
  {
   "cell_type": "code",
   "execution_count": 54,
   "metadata": {},
   "outputs": [],
   "source": [
    "from sklearn.metrics import roc_curve\n",
    "fpr ,tpr,thresholds = roc_curve(y_train_5,y_scores)"
   ]
  },
  {
   "cell_type": "code",
   "execution_count": 59,
   "metadata": {},
   "outputs": [
    {
     "data": {
      "image/png": "[encoded data removed]",
      "text/plain": [
       "<Figure size 576x432 with 1 Axes>"
      ]
     },
     "metadata": {
      "needs_background": "light"
     },
     "output_type": "display_data"
    }
   ],
   "source": [
    "def plot_ROC(fpr,tpr,label=None):\n",
    "    plt.plot(fpr,tpr,linewidth=2,label=label)\n",
    "    plt.axis([0,1,0,1])\n",
    "    plt.plot([0,1],[0,1],'k--')\n",
    "    plt.xlabel(\"false postive rate\")\n",
    "    plt.ylabel(\"true postive rate\")\n",
    "plt.figure(figsize=(8,6))\n",
    "plot_ROC(fpr,tpr)\n",
    "plt.show()"
   ]
  },
  {
   "cell_type": "code",
   "execution_count": 60,
   "metadata": {},
   "outputs": [
    {
     "data": {
      "text/plain": [
       "0.9624496555967155"
      ]
     },
     "execution_count": 60,
     "metadata": {},
     "output_type": "execute_result"
    }
   ],
   "source": [
    "from sklearn.metrics import roc_auc_score\n",
    "roc_auc_score(y_train_5,y_scores)#0.9624496555967155"
   ]
  }
 ],
 "metadata": {
  "interpreter": {
   "hash": "2e8db0730c91600a5349938b5440aa07dc44fbf5b422a40c9df5fa4ade778ff1"
  },
  "kernelspec": {
   "display_name": "Python 3.8.13 ('test')",
   "language": "python",
   "name": "python3"
  },
  "language_info": {
   "codemirror_mode": {
    "name": "ipython",
    "version": 3
   },
   "file_extension": ".py",
   "mimetype": "text/x-python",
   "name": "python",
   "nbconvert_exporter": "python",
   "pygments_lexer": "ipython3",
   "version": "3.8.13"
  },
  "orig_nbformat": 4
 },
 "nbformat": 4,
 "nbformat_minor": 2
}
