{
 "cells": [
  {
   "cell_type": "code",
   "execution_count": 27,
   "metadata": {},
   "outputs": [],
   "source": [
    "from PIL import Image\n",
    "from torchvision import transforms\n",
    "from torch.utils.tensorboard import SummaryWriter"
   ]
  },
  {
   "cell_type": "code",
   "execution_count": 28,
   "metadata": {},
   "outputs": [],
   "source": [
    "img_path = r'../data/train/ants/0013035.jpg'\n",
    "img = Image.open(img_path)\n",
    "# img.show()\n",
    "trans_totensor = transforms.ToTensor()\n",
    "trans_norm = transforms.Normalize([1,3,5],[1,3,5])\n",
    "trans_resize = transforms.Resize((512,512))\n",
    "trans_compose = transforms.Compose([trans_resize,trans_totensor])\n",
    "trans_randomCrop = transforms.RandomCrop(512)\n",
    "trans_compose2 = transforms.Compose([trans_randomCrop,trans_totensor])"
   ]
  },
  {
   "cell_type": "code",
   "execution_count": 29,
   "metadata": {},
   "outputs": [
    {
     "name": "stdout",
     "output_type": "stream",
     "text": [
      "(768, 512)\n",
      "(512, 512)\n"
     ]
    }
   ],
   "source": [
    "img_tensor = trans_totensor(img)\n",
    "img_norm = trans_norm(img_tensor)\n",
    "\n",
    "\n",
    "print(img.size)\n",
    "img_resize = trans_resize(img)\n",
    "print(img_resize.size)\n",
    "'''\n",
    "(768, 512)\n",
    "(512, 512)\n",
    "'''\n",
    "\n",
    "img_compose = trans_compose(img)\n",
    "\n",
    "for i in range(10): \n",
    "    img_compose_2 = trans_compose2(img)\n",
    "    with SummaryWriter(\"logs\") as writer:\n",
    "        writer.add_image('randomCrop',img_compose_2,i)\n",
    "\n",
    "# with SummaryWriter(\"logs\") as writer:\n",
    "#     writer.add_image('compose',img_compose)\n",
    "\n",
    "\n",
    "# with SummaryWriter(\"logs\") as writer:\n",
    "#     writer.add_image('totensor',img_tensor , )\n",
    "#     writer.add_image('trans_norm',img_norm , 1)"
   ]
  }
 ],
 "metadata": {
  "interpreter": {
   "hash": "2e8db0730c91600a5349938b5440aa07dc44fbf5b422a40c9df5fa4ade778ff1"
  },
  "kernelspec": {
   "display_name": "Python 3.8.13 ('test')",
   "language": "python",
   "name": "python3"
  },
  "language_info": {
   "codemirror_mode": {
    "name": "ipython",
    "version": 3
   },
   "file_extension": ".py",
   "mimetype": "text/x-python",
   "name": "python",
   "nbconvert_exporter": "python",
   "pygments_lexer": "ipython3",
   "version": "3.8.13"
  },
  "orig_nbformat": 4
 },
 "nbformat": 4,
 "nbformat_minor": 2
}
