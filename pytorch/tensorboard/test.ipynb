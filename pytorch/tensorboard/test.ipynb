{
 "cells": [
  {
   "cell_type": "code",
   "execution_count": 30,
   "metadata": {},
   "outputs": [],
   "source": [
    "from torch.utils.tensorboard import SummaryWriter\n",
    "from rich import pretty,print\n",
    "import time\n",
    "import os \n",
    "from PIL import Image\n",
    "import numpy as np\n",
    "pretty.install()"
   ]
  },
  {
   "cell_type": "code",
   "execution_count": 31,
   "metadata": {},
   "outputs": [],
   "source": [
    "# writer = SummaryWriter(\"logs\")\n",
    "# # writer.add_image()\n",
    "# # for i in range(20):\n",
    "# #     time.sleep(1)\n",
    "# #     writer.add_scalar(\"y=2x\",3*i ,i)#添加标量\n",
    "# writer.close()"
   ]
  },
  {
   "cell_type": "code",
   "execution_count": 32,
   "metadata": {},
   "outputs": [
    {
     "data": {
      "text/html": [
       "<pre style=\"white-space:pre;overflow-x:auto;line-height:normal;font-family:Menlo,'DejaVu Sans Mono',consolas,'Courier New',monospace\">d:\\Project\\python_pro\\pytorch\\tensorboard\n",
       "</pre>\n"
      ],
      "text/plain": [
       "d:\\Project\\python_pro\\pytorch\\tensorboard\n"
      ]
     },
     "metadata": {},
     "output_type": "display_data"
    }
   ],
   "source": [
    "print(os.getcwd())\n",
    "img_path = r'../data\\train\\ants\\0013035.jpg'\n",
    "img = np.array(Image.open(img_path))\n"
   ]
  },
  {
   "cell_type": "code",
   "execution_count": 33,
   "metadata": {},
   "outputs": [],
   "source": [
    "with SummaryWriter(\"logs\") as writer:\n",
    "    writer.add_image('test',img,1,dataformats=\"HWC\")"
   ]
  }
 ],
 "metadata": {
  "interpreter": {
   "hash": "2e8db0730c91600a5349938b5440aa07dc44fbf5b422a40c9df5fa4ade778ff1"
  },
  "kernelspec": {
   "display_name": "Python 3.8.13 ('test')",
   "language": "python",
   "name": "python3"
  },
  "language_info": {
   "codemirror_mode": {
    "name": "ipython",
    "version": 3
   },
   "file_extension": ".py",
   "mimetype": "text/x-python",
   "name": "python",
   "nbconvert_exporter": "python",
   "pygments_lexer": "ipython3",
   "version": "3.8.13"
  },
  "orig_nbformat": 4
 },
 "nbformat": 4,
 "nbformat_minor": 2
}
